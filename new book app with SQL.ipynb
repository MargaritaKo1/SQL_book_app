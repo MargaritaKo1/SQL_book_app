{
 "cells": [
  {
   "cell_type": "markdown",
   "metadata": {},
   "source": [
    "# Проект по SQL: \"Формирование ценностного предложения для нового книжного приложения\""
   ]
  },
  {
   "cell_type": "markdown",
   "metadata": {},
   "source": [
    "**Цель исследования:** проанализировать базу данных сервиса для чтения книг по подписке в целях выявления потенциально успешных продуктов для использования в стартапе."
   ]
  },
  {
   "cell_type": "code",
   "execution_count": 1,
   "metadata": {},
   "outputs": [],
   "source": [
    "# импортируем библиотеки\n",
    "import pandas as pd\n",
    "import sqlalchemy as sa"
   ]
  },
  {
   "cell_type": "code",
   "execution_count": 2,
   "metadata": {},
   "outputs": [],
   "source": [
    "# устанавливаем параметры\n",
    "db_config = {\n",
    "'user': 'praktikum_student', # имя пользователя\n",
    "'pwd': 'Sdf4$2;d-d30pp', # пароль\n",
    "'host': 'rc1b-wcoijxj3yxfsf3fs.mdb.yandexcloud.net',\n",
    "'port': 6432, # порт подключения\n",
    "'db': 'data-analyst-final-project-db' # название базы данных\n",
    "}\n",
    "connection_string = 'postgresql://{user}:{pwd}@{host}:{port}/{db}'.format(**db_config)\n",
    "\n",
    "# сохраняем коннектор\n",
    "engine = sa.create_engine(connection_string, connect_args={'sslmode':'require'})\n"
   ]
  },
  {
   "cell_type": "code",
   "execution_count": 3,
   "metadata": {},
   "outputs": [],
   "source": [
    "# чтобы выполнить SQL-запрос, пишем функцию с использованием Pandas\n",
    "def get_sql_data(query:str, engine:sa.engine.base.Engine=engine) -> pd.DataFrame:\n",
    "    '''Открываем соединение, получаем данные из sql, закрываем соединение'''\n",
    "    with engine.connect() as con:\n",
    "        return pd.read_sql(sql=sa.text(query), con = con)"
   ]
  },
  {
   "cell_type": "code",
   "execution_count": 4,
   "metadata": {},
   "outputs": [],
   "source": [
    "#pd.set_option('display.max_rows', None)\n",
    "#a = '''select * from books'''\n",
    "#get_sql_data(a)"
   ]
  },
  {
   "cell_type": "code",
   "execution_count": 5,
   "metadata": {
    "scrolled": true
   },
   "outputs": [
    {
     "data": {
      "text/html": [
       "<div>\n",
       "<style scoped>\n",
       "    .dataframe tbody tr th:only-of-type {\n",
       "        vertical-align: middle;\n",
       "    }\n",
       "\n",
       "    .dataframe tbody tr th {\n",
       "        vertical-align: top;\n",
       "    }\n",
       "\n",
       "    .dataframe thead th {\n",
       "        text-align: right;\n",
       "    }\n",
       "</style>\n",
       "<table border=\"1\" class=\"dataframe\">\n",
       "  <thead>\n",
       "    <tr style=\"text-align: right;\">\n",
       "      <th></th>\n",
       "      <th>book_id</th>\n",
       "      <th>author_id</th>\n",
       "      <th>title</th>\n",
       "      <th>num_pages</th>\n",
       "      <th>publication_date</th>\n",
       "      <th>publisher_id</th>\n",
       "    </tr>\n",
       "  </thead>\n",
       "  <tbody>\n",
       "    <tr>\n",
       "      <th>0</th>\n",
       "      <td>1</td>\n",
       "      <td>546</td>\n",
       "      <td>'Salem's Lot</td>\n",
       "      <td>594</td>\n",
       "      <td>2005-11-01</td>\n",
       "      <td>93</td>\n",
       "    </tr>\n",
       "    <tr>\n",
       "      <th>1</th>\n",
       "      <td>2</td>\n",
       "      <td>465</td>\n",
       "      <td>1 000 Places to See Before You Die</td>\n",
       "      <td>992</td>\n",
       "      <td>2003-05-22</td>\n",
       "      <td>336</td>\n",
       "    </tr>\n",
       "    <tr>\n",
       "      <th>2</th>\n",
       "      <td>3</td>\n",
       "      <td>407</td>\n",
       "      <td>13 Little Blue Envelopes (Little Blue Envelope...</td>\n",
       "      <td>322</td>\n",
       "      <td>2010-12-21</td>\n",
       "      <td>135</td>\n",
       "    </tr>\n",
       "    <tr>\n",
       "      <th>3</th>\n",
       "      <td>4</td>\n",
       "      <td>82</td>\n",
       "      <td>1491: New Revelations of the Americas Before C...</td>\n",
       "      <td>541</td>\n",
       "      <td>2006-10-10</td>\n",
       "      <td>309</td>\n",
       "    </tr>\n",
       "    <tr>\n",
       "      <th>4</th>\n",
       "      <td>5</td>\n",
       "      <td>125</td>\n",
       "      <td>1776</td>\n",
       "      <td>386</td>\n",
       "      <td>2006-07-04</td>\n",
       "      <td>268</td>\n",
       "    </tr>\n",
       "  </tbody>\n",
       "</table>\n",
       "</div>"
      ],
      "text/plain": [
       "   book_id  author_id                                              title  \\\n",
       "0        1        546                                       'Salem's Lot   \n",
       "1        2        465                 1 000 Places to See Before You Die   \n",
       "2        3        407  13 Little Blue Envelopes (Little Blue Envelope...   \n",
       "3        4         82  1491: New Revelations of the Americas Before C...   \n",
       "4        5        125                                               1776   \n",
       "\n",
       "   num_pages publication_date  publisher_id  \n",
       "0        594       2005-11-01            93  \n",
       "1        992       2003-05-22           336  \n",
       "2        322       2010-12-21           135  \n",
       "3        541       2006-10-10           309  \n",
       "4        386       2006-07-04           268  "
      ]
     },
     "execution_count": 5,
     "metadata": {},
     "output_type": "execute_result"
    }
   ],
   "source": [
    "# формируем запрос и выводим данные\n",
    "query = '''SELECT * FROM books LIMIT 5'''\n",
    "get_sql_data(query)"
   ]
  },
  {
   "cell_type": "code",
   "execution_count": 6,
   "metadata": {},
   "outputs": [],
   "source": [
    "# устанавливаю полный вывод строки\n",
    "pd.set_option('display.max_colwidth', None)"
   ]
  },
  {
   "cell_type": "markdown",
   "metadata": {},
   "source": [
    "## Исследование таблиц"
   ]
  },
  {
   "cell_type": "markdown",
   "metadata": {},
   "source": [
    "### Таблица 1"
   ]
  },
  {
   "cell_type": "code",
   "execution_count": 7,
   "metadata": {},
   "outputs": [
    {
     "data": {
      "text/html": [
       "<div>\n",
       "<style scoped>\n",
       "    .dataframe tbody tr th:only-of-type {\n",
       "        vertical-align: middle;\n",
       "    }\n",
       "\n",
       "    .dataframe tbody tr th {\n",
       "        vertical-align: top;\n",
       "    }\n",
       "\n",
       "    .dataframe thead th {\n",
       "        text-align: right;\n",
       "    }\n",
       "</style>\n",
       "<table border=\"1\" class=\"dataframe\">\n",
       "  <thead>\n",
       "    <tr style=\"text-align: right;\">\n",
       "      <th></th>\n",
       "      <th>book_id</th>\n",
       "      <th>author_id</th>\n",
       "      <th>title</th>\n",
       "      <th>num_pages</th>\n",
       "      <th>publication_date</th>\n",
       "      <th>publisher_id</th>\n",
       "    </tr>\n",
       "  </thead>\n",
       "  <tbody>\n",
       "    <tr>\n",
       "      <th>0</th>\n",
       "      <td>1</td>\n",
       "      <td>546</td>\n",
       "      <td>'Salem's Lot</td>\n",
       "      <td>594</td>\n",
       "      <td>2005-11-01</td>\n",
       "      <td>93</td>\n",
       "    </tr>\n",
       "    <tr>\n",
       "      <th>1</th>\n",
       "      <td>2</td>\n",
       "      <td>465</td>\n",
       "      <td>1 000 Places to See Before You Die</td>\n",
       "      <td>992</td>\n",
       "      <td>2003-05-22</td>\n",
       "      <td>336</td>\n",
       "    </tr>\n",
       "    <tr>\n",
       "      <th>2</th>\n",
       "      <td>3</td>\n",
       "      <td>407</td>\n",
       "      <td>13 Little Blue Envelopes (Little Blue Envelope  #1)</td>\n",
       "      <td>322</td>\n",
       "      <td>2010-12-21</td>\n",
       "      <td>135</td>\n",
       "    </tr>\n",
       "    <tr>\n",
       "      <th>3</th>\n",
       "      <td>4</td>\n",
       "      <td>82</td>\n",
       "      <td>1491: New Revelations of the Americas Before Columbus</td>\n",
       "      <td>541</td>\n",
       "      <td>2006-10-10</td>\n",
       "      <td>309</td>\n",
       "    </tr>\n",
       "    <tr>\n",
       "      <th>4</th>\n",
       "      <td>5</td>\n",
       "      <td>125</td>\n",
       "      <td>1776</td>\n",
       "      <td>386</td>\n",
       "      <td>2006-07-04</td>\n",
       "      <td>268</td>\n",
       "    </tr>\n",
       "  </tbody>\n",
       "</table>\n",
       "</div>"
      ],
      "text/plain": [
       "   book_id  author_id                                                  title  \\\n",
       "0        1        546                                           'Salem's Lot   \n",
       "1        2        465                     1 000 Places to See Before You Die   \n",
       "2        3        407    13 Little Blue Envelopes (Little Blue Envelope  #1)   \n",
       "3        4         82  1491: New Revelations of the Americas Before Columbus   \n",
       "4        5        125                                                   1776   \n",
       "\n",
       "   num_pages publication_date  publisher_id  \n",
       "0        594       2005-11-01            93  \n",
       "1        992       2003-05-22           336  \n",
       "2        322       2010-12-21           135  \n",
       "3        541       2006-10-10           309  \n",
       "4        386       2006-07-04           268  "
      ]
     },
     "execution_count": 7,
     "metadata": {},
     "output_type": "execute_result"
    }
   ],
   "source": [
    "# ознакомилась с таблицей, вывела 5 первых строк\n",
    "basis_1 = '''\n",
    "SELECT *\n",
    "FROM books\n",
    "LIMIT 5\n",
    "'''\n",
    "get_sql_data(basis_1)"
   ]
  },
  {
   "cell_type": "code",
   "execution_count": 8,
   "metadata": {},
   "outputs": [
    {
     "data": {
      "text/html": [
       "<div>\n",
       "<style scoped>\n",
       "    .dataframe tbody tr th:only-of-type {\n",
       "        vertical-align: middle;\n",
       "    }\n",
       "\n",
       "    .dataframe tbody tr th {\n",
       "        vertical-align: top;\n",
       "    }\n",
       "\n",
       "    .dataframe thead th {\n",
       "        text-align: right;\n",
       "    }\n",
       "</style>\n",
       "<table border=\"1\" class=\"dataframe\">\n",
       "  <thead>\n",
       "    <tr style=\"text-align: right;\">\n",
       "      <th></th>\n",
       "      <th>count</th>\n",
       "    </tr>\n",
       "  </thead>\n",
       "  <tbody>\n",
       "    <tr>\n",
       "      <th>0</th>\n",
       "      <td>1000</td>\n",
       "    </tr>\n",
       "  </tbody>\n",
       "</table>\n",
       "</div>"
      ],
      "text/plain": [
       "   count\n",
       "0   1000"
      ]
     },
     "execution_count": 8,
     "metadata": {},
     "output_type": "execute_result"
    }
   ],
   "source": [
    "# количество строк\n",
    "basis_1 = '''\n",
    "SELECT COUNT(*)\n",
    "FROM books\n",
    "'''\n",
    "get_sql_data(basis_1)"
   ]
  },
  {
   "cell_type": "code",
   "execution_count": 9,
   "metadata": {},
   "outputs": [
    {
     "data": {
      "text/html": [
       "<div>\n",
       "<style scoped>\n",
       "    .dataframe tbody tr th:only-of-type {\n",
       "        vertical-align: middle;\n",
       "    }\n",
       "\n",
       "    .dataframe tbody tr th {\n",
       "        vertical-align: top;\n",
       "    }\n",
       "\n",
       "    .dataframe thead th {\n",
       "        text-align: right;\n",
       "    }\n",
       "</style>\n",
       "<table border=\"1\" class=\"dataframe\">\n",
       "  <thead>\n",
       "    <tr style=\"text-align: right;\">\n",
       "      <th></th>\n",
       "      <th>column_name</th>\n",
       "      <th>data_type</th>\n",
       "    </tr>\n",
       "  </thead>\n",
       "  <tbody>\n",
       "    <tr>\n",
       "      <th>0</th>\n",
       "      <td>book_id</td>\n",
       "      <td>integer</td>\n",
       "    </tr>\n",
       "    <tr>\n",
       "      <th>1</th>\n",
       "      <td>author_id</td>\n",
       "      <td>integer</td>\n",
       "    </tr>\n",
       "    <tr>\n",
       "      <th>2</th>\n",
       "      <td>num_pages</td>\n",
       "      <td>integer</td>\n",
       "    </tr>\n",
       "    <tr>\n",
       "      <th>3</th>\n",
       "      <td>publication_date</td>\n",
       "      <td>date</td>\n",
       "    </tr>\n",
       "    <tr>\n",
       "      <th>4</th>\n",
       "      <td>publisher_id</td>\n",
       "      <td>integer</td>\n",
       "    </tr>\n",
       "    <tr>\n",
       "      <th>5</th>\n",
       "      <td>title</td>\n",
       "      <td>text</td>\n",
       "    </tr>\n",
       "  </tbody>\n",
       "</table>\n",
       "</div>"
      ],
      "text/plain": [
       "        column_name data_type\n",
       "0           book_id   integer\n",
       "1         author_id   integer\n",
       "2         num_pages   integer\n",
       "3  publication_date      date\n",
       "4      publisher_id   integer\n",
       "5             title      text"
      ]
     },
     "execution_count": 9,
     "metadata": {},
     "output_type": "execute_result"
    }
   ],
   "source": [
    "#смотрю типы данных\n",
    "basis_1 = '''\n",
    "SELECT column_name, data_type\n",
    "FROM information_schema.columns\n",
    "WHERE table_name = 'books';\n",
    "\n",
    "'''\n",
    "get_sql_data(basis_1)"
   ]
  },
  {
   "cell_type": "markdown",
   "metadata": {},
   "source": [
    "### Таблица 2"
   ]
  },
  {
   "cell_type": "code",
   "execution_count": 10,
   "metadata": {},
   "outputs": [
    {
     "data": {
      "text/html": [
       "<div>\n",
       "<style scoped>\n",
       "    .dataframe tbody tr th:only-of-type {\n",
       "        vertical-align: middle;\n",
       "    }\n",
       "\n",
       "    .dataframe tbody tr th {\n",
       "        vertical-align: top;\n",
       "    }\n",
       "\n",
       "    .dataframe thead th {\n",
       "        text-align: right;\n",
       "    }\n",
       "</style>\n",
       "<table border=\"1\" class=\"dataframe\">\n",
       "  <thead>\n",
       "    <tr style=\"text-align: right;\">\n",
       "      <th></th>\n",
       "      <th>author_id</th>\n",
       "      <th>author</th>\n",
       "    </tr>\n",
       "  </thead>\n",
       "  <tbody>\n",
       "    <tr>\n",
       "      <th>0</th>\n",
       "      <td>1</td>\n",
       "      <td>A.S. Byatt</td>\n",
       "    </tr>\n",
       "    <tr>\n",
       "      <th>1</th>\n",
       "      <td>2</td>\n",
       "      <td>Aesop/Laura Harris/Laura Gibbs</td>\n",
       "    </tr>\n",
       "    <tr>\n",
       "      <th>2</th>\n",
       "      <td>3</td>\n",
       "      <td>Agatha Christie</td>\n",
       "    </tr>\n",
       "    <tr>\n",
       "      <th>3</th>\n",
       "      <td>4</td>\n",
       "      <td>Alan Brennert</td>\n",
       "    </tr>\n",
       "    <tr>\n",
       "      <th>4</th>\n",
       "      <td>5</td>\n",
       "      <td>Alan Moore/David   Lloyd</td>\n",
       "    </tr>\n",
       "  </tbody>\n",
       "</table>\n",
       "</div>"
      ],
      "text/plain": [
       "   author_id                          author\n",
       "0          1                      A.S. Byatt\n",
       "1          2  Aesop/Laura Harris/Laura Gibbs\n",
       "2          3                 Agatha Christie\n",
       "3          4                   Alan Brennert\n",
       "4          5        Alan Moore/David   Lloyd"
      ]
     },
     "execution_count": 10,
     "metadata": {},
     "output_type": "execute_result"
    }
   ],
   "source": [
    "# ознакомилась с таблицей, вывела 5 первых строк\n",
    "basis_2 = '''\n",
    "SELECT *\n",
    "FROM authors\n",
    "LIMIT 5\n",
    "'''\n",
    "get_sql_data(basis_2)"
   ]
  },
  {
   "cell_type": "code",
   "execution_count": 11,
   "metadata": {
    "scrolled": true
   },
   "outputs": [
    {
     "data": {
      "text/html": [
       "<div>\n",
       "<style scoped>\n",
       "    .dataframe tbody tr th:only-of-type {\n",
       "        vertical-align: middle;\n",
       "    }\n",
       "\n",
       "    .dataframe tbody tr th {\n",
       "        vertical-align: top;\n",
       "    }\n",
       "\n",
       "    .dataframe thead th {\n",
       "        text-align: right;\n",
       "    }\n",
       "</style>\n",
       "<table border=\"1\" class=\"dataframe\">\n",
       "  <thead>\n",
       "    <tr style=\"text-align: right;\">\n",
       "      <th></th>\n",
       "      <th>count</th>\n",
       "    </tr>\n",
       "  </thead>\n",
       "  <tbody>\n",
       "    <tr>\n",
       "      <th>0</th>\n",
       "      <td>636</td>\n",
       "    </tr>\n",
       "  </tbody>\n",
       "</table>\n",
       "</div>"
      ],
      "text/plain": [
       "   count\n",
       "0    636"
      ]
     },
     "execution_count": 11,
     "metadata": {},
     "output_type": "execute_result"
    }
   ],
   "source": [
    "# количество строк\n",
    "basis_2 = '''\n",
    "SELECT COUNT(*)\n",
    "FROM authors\n",
    "'''\n",
    "get_sql_data(basis_2)"
   ]
  },
  {
   "cell_type": "code",
   "execution_count": 12,
   "metadata": {},
   "outputs": [
    {
     "data": {
      "text/html": [
       "<div>\n",
       "<style scoped>\n",
       "    .dataframe tbody tr th:only-of-type {\n",
       "        vertical-align: middle;\n",
       "    }\n",
       "\n",
       "    .dataframe tbody tr th {\n",
       "        vertical-align: top;\n",
       "    }\n",
       "\n",
       "    .dataframe thead th {\n",
       "        text-align: right;\n",
       "    }\n",
       "</style>\n",
       "<table border=\"1\" class=\"dataframe\">\n",
       "  <thead>\n",
       "    <tr style=\"text-align: right;\">\n",
       "      <th></th>\n",
       "      <th>column_name</th>\n",
       "      <th>data_type</th>\n",
       "    </tr>\n",
       "  </thead>\n",
       "  <tbody>\n",
       "    <tr>\n",
       "      <th>0</th>\n",
       "      <td>author_id</td>\n",
       "      <td>integer</td>\n",
       "    </tr>\n",
       "    <tr>\n",
       "      <th>1</th>\n",
       "      <td>author</td>\n",
       "      <td>text</td>\n",
       "    </tr>\n",
       "  </tbody>\n",
       "</table>\n",
       "</div>"
      ],
      "text/plain": [
       "  column_name data_type\n",
       "0   author_id   integer\n",
       "1      author      text"
      ]
     },
     "execution_count": 12,
     "metadata": {},
     "output_type": "execute_result"
    }
   ],
   "source": [
    "#смотрю типы данных\n",
    "basis_2 = '''\n",
    "SELECT column_name, data_type\n",
    "FROM information_schema.columns\n",
    "WHERE table_name = 'authors';\n",
    "\n",
    "'''\n",
    "get_sql_data(basis_2)"
   ]
  },
  {
   "cell_type": "markdown",
   "metadata": {},
   "source": [
    "### Таблица 3"
   ]
  },
  {
   "cell_type": "code",
   "execution_count": 13,
   "metadata": {},
   "outputs": [
    {
     "data": {
      "text/html": [
       "<div>\n",
       "<style scoped>\n",
       "    .dataframe tbody tr th:only-of-type {\n",
       "        vertical-align: middle;\n",
       "    }\n",
       "\n",
       "    .dataframe tbody tr th {\n",
       "        vertical-align: top;\n",
       "    }\n",
       "\n",
       "    .dataframe thead th {\n",
       "        text-align: right;\n",
       "    }\n",
       "</style>\n",
       "<table border=\"1\" class=\"dataframe\">\n",
       "  <thead>\n",
       "    <tr style=\"text-align: right;\">\n",
       "      <th></th>\n",
       "      <th>rating_id</th>\n",
       "      <th>book_id</th>\n",
       "      <th>username</th>\n",
       "      <th>rating</th>\n",
       "    </tr>\n",
       "  </thead>\n",
       "  <tbody>\n",
       "    <tr>\n",
       "      <th>0</th>\n",
       "      <td>1</td>\n",
       "      <td>1</td>\n",
       "      <td>ryanfranco</td>\n",
       "      <td>4</td>\n",
       "    </tr>\n",
       "    <tr>\n",
       "      <th>1</th>\n",
       "      <td>2</td>\n",
       "      <td>1</td>\n",
       "      <td>grantpatricia</td>\n",
       "      <td>2</td>\n",
       "    </tr>\n",
       "    <tr>\n",
       "      <th>2</th>\n",
       "      <td>3</td>\n",
       "      <td>1</td>\n",
       "      <td>brandtandrea</td>\n",
       "      <td>5</td>\n",
       "    </tr>\n",
       "    <tr>\n",
       "      <th>3</th>\n",
       "      <td>4</td>\n",
       "      <td>2</td>\n",
       "      <td>lorichen</td>\n",
       "      <td>3</td>\n",
       "    </tr>\n",
       "    <tr>\n",
       "      <th>4</th>\n",
       "      <td>5</td>\n",
       "      <td>2</td>\n",
       "      <td>mariokeller</td>\n",
       "      <td>2</td>\n",
       "    </tr>\n",
       "  </tbody>\n",
       "</table>\n",
       "</div>"
      ],
      "text/plain": [
       "   rating_id  book_id       username  rating\n",
       "0          1        1     ryanfranco       4\n",
       "1          2        1  grantpatricia       2\n",
       "2          3        1   brandtandrea       5\n",
       "3          4        2       lorichen       3\n",
       "4          5        2    mariokeller       2"
      ]
     },
     "execution_count": 13,
     "metadata": {},
     "output_type": "execute_result"
    }
   ],
   "source": [
    "# ознакомилась с таблицей, вывела 5 первых строк\n",
    "basis_3 = '''\n",
    "SELECT *\n",
    "FROM ratings\n",
    "LIMIT 5\n",
    "'''\n",
    "get_sql_data(basis_3)"
   ]
  },
  {
   "cell_type": "code",
   "execution_count": 14,
   "metadata": {
    "scrolled": true
   },
   "outputs": [
    {
     "data": {
      "text/html": [
       "<div>\n",
       "<style scoped>\n",
       "    .dataframe tbody tr th:only-of-type {\n",
       "        vertical-align: middle;\n",
       "    }\n",
       "\n",
       "    .dataframe tbody tr th {\n",
       "        vertical-align: top;\n",
       "    }\n",
       "\n",
       "    .dataframe thead th {\n",
       "        text-align: right;\n",
       "    }\n",
       "</style>\n",
       "<table border=\"1\" class=\"dataframe\">\n",
       "  <thead>\n",
       "    <tr style=\"text-align: right;\">\n",
       "      <th></th>\n",
       "      <th>count</th>\n",
       "    </tr>\n",
       "  </thead>\n",
       "  <tbody>\n",
       "    <tr>\n",
       "      <th>0</th>\n",
       "      <td>6456</td>\n",
       "    </tr>\n",
       "  </tbody>\n",
       "</table>\n",
       "</div>"
      ],
      "text/plain": [
       "   count\n",
       "0   6456"
      ]
     },
     "execution_count": 14,
     "metadata": {},
     "output_type": "execute_result"
    }
   ],
   "source": [
    "# количество строк\n",
    "basis_3 = '''\n",
    "SELECT COUNT(*)\n",
    "FROM ratings\n",
    "'''\n",
    "get_sql_data(basis_3)"
   ]
  },
  {
   "cell_type": "code",
   "execution_count": 15,
   "metadata": {},
   "outputs": [
    {
     "data": {
      "text/html": [
       "<div>\n",
       "<style scoped>\n",
       "    .dataframe tbody tr th:only-of-type {\n",
       "        vertical-align: middle;\n",
       "    }\n",
       "\n",
       "    .dataframe tbody tr th {\n",
       "        vertical-align: top;\n",
       "    }\n",
       "\n",
       "    .dataframe thead th {\n",
       "        text-align: right;\n",
       "    }\n",
       "</style>\n",
       "<table border=\"1\" class=\"dataframe\">\n",
       "  <thead>\n",
       "    <tr style=\"text-align: right;\">\n",
       "      <th></th>\n",
       "      <th>column_name</th>\n",
       "      <th>data_type</th>\n",
       "    </tr>\n",
       "  </thead>\n",
       "  <tbody>\n",
       "    <tr>\n",
       "      <th>0</th>\n",
       "      <td>rating_id</td>\n",
       "      <td>integer</td>\n",
       "    </tr>\n",
       "    <tr>\n",
       "      <th>1</th>\n",
       "      <td>book_id</td>\n",
       "      <td>integer</td>\n",
       "    </tr>\n",
       "    <tr>\n",
       "      <th>2</th>\n",
       "      <td>rating</td>\n",
       "      <td>integer</td>\n",
       "    </tr>\n",
       "    <tr>\n",
       "      <th>3</th>\n",
       "      <td>username</td>\n",
       "      <td>text</td>\n",
       "    </tr>\n",
       "  </tbody>\n",
       "</table>\n",
       "</div>"
      ],
      "text/plain": [
       "  column_name data_type\n",
       "0   rating_id   integer\n",
       "1     book_id   integer\n",
       "2      rating   integer\n",
       "3    username      text"
      ]
     },
     "execution_count": 15,
     "metadata": {},
     "output_type": "execute_result"
    }
   ],
   "source": [
    "#смотрю типы данных\n",
    "basis_3 = '''\n",
    "SELECT column_name, data_type\n",
    "FROM information_schema.columns\n",
    "WHERE table_name = 'ratings';\n",
    "\n",
    "'''\n",
    "get_sql_data(basis_3)"
   ]
  },
  {
   "cell_type": "markdown",
   "metadata": {},
   "source": [
    "### Таблица 4"
   ]
  },
  {
   "cell_type": "code",
   "execution_count": 16,
   "metadata": {},
   "outputs": [
    {
     "data": {
      "text/html": [
       "<div>\n",
       "<style scoped>\n",
       "    .dataframe tbody tr th:only-of-type {\n",
       "        vertical-align: middle;\n",
       "    }\n",
       "\n",
       "    .dataframe tbody tr th {\n",
       "        vertical-align: top;\n",
       "    }\n",
       "\n",
       "    .dataframe thead th {\n",
       "        text-align: right;\n",
       "    }\n",
       "</style>\n",
       "<table border=\"1\" class=\"dataframe\">\n",
       "  <thead>\n",
       "    <tr style=\"text-align: right;\">\n",
       "      <th></th>\n",
       "      <th>review_id</th>\n",
       "      <th>book_id</th>\n",
       "      <th>username</th>\n",
       "      <th>text</th>\n",
       "    </tr>\n",
       "  </thead>\n",
       "  <tbody>\n",
       "    <tr>\n",
       "      <th>0</th>\n",
       "      <td>1</td>\n",
       "      <td>1</td>\n",
       "      <td>brandtandrea</td>\n",
       "      <td>Mention society tell send professor analysis. Over provide race technology continue these.</td>\n",
       "    </tr>\n",
       "    <tr>\n",
       "      <th>1</th>\n",
       "      <td>2</td>\n",
       "      <td>1</td>\n",
       "      <td>ryanfranco</td>\n",
       "      <td>Foot glass pretty audience hit themselves. Among admit investment argue security.</td>\n",
       "    </tr>\n",
       "    <tr>\n",
       "      <th>2</th>\n",
       "      <td>3</td>\n",
       "      <td>2</td>\n",
       "      <td>lorichen</td>\n",
       "      <td>Listen treat keep worry. Miss husband tax but person sport treatment industry. Kitchen decision deep the. Social party body the.</td>\n",
       "    </tr>\n",
       "    <tr>\n",
       "      <th>3</th>\n",
       "      <td>4</td>\n",
       "      <td>3</td>\n",
       "      <td>johnsonamanda</td>\n",
       "      <td>Finally month interesting blue could nature cultural bit. Prepare beat finish grow that smile teach. Dream me play near.</td>\n",
       "    </tr>\n",
       "    <tr>\n",
       "      <th>4</th>\n",
       "      <td>5</td>\n",
       "      <td>3</td>\n",
       "      <td>scotttamara</td>\n",
       "      <td>Nation purpose heavy give wait song will. List dinner another whole positive radio fast. Music staff many green.</td>\n",
       "    </tr>\n",
       "  </tbody>\n",
       "</table>\n",
       "</div>"
      ],
      "text/plain": [
       "   review_id  book_id       username  \\\n",
       "0          1        1   brandtandrea   \n",
       "1          2        1     ryanfranco   \n",
       "2          3        2       lorichen   \n",
       "3          4        3  johnsonamanda   \n",
       "4          5        3    scotttamara   \n",
       "\n",
       "                                                                                                                               text  \n",
       "0                                        Mention society tell send professor analysis. Over provide race technology continue these.  \n",
       "1                                                 Foot glass pretty audience hit themselves. Among admit investment argue security.  \n",
       "2  Listen treat keep worry. Miss husband tax but person sport treatment industry. Kitchen decision deep the. Social party body the.  \n",
       "3          Finally month interesting blue could nature cultural bit. Prepare beat finish grow that smile teach. Dream me play near.  \n",
       "4                  Nation purpose heavy give wait song will. List dinner another whole positive radio fast. Music staff many green.  "
      ]
     },
     "execution_count": 16,
     "metadata": {},
     "output_type": "execute_result"
    }
   ],
   "source": [
    "# ознакомилась с таблицей, вывела 5 первых строк\n",
    "basis_4 = '''\n",
    "SELECT *\n",
    "FROM reviews\n",
    "LIMIT 5\n",
    "'''\n",
    "get_sql_data(basis_4)"
   ]
  },
  {
   "cell_type": "code",
   "execution_count": 17,
   "metadata": {
    "scrolled": false
   },
   "outputs": [
    {
     "data": {
      "text/html": [
       "<div>\n",
       "<style scoped>\n",
       "    .dataframe tbody tr th:only-of-type {\n",
       "        vertical-align: middle;\n",
       "    }\n",
       "\n",
       "    .dataframe tbody tr th {\n",
       "        vertical-align: top;\n",
       "    }\n",
       "\n",
       "    .dataframe thead th {\n",
       "        text-align: right;\n",
       "    }\n",
       "</style>\n",
       "<table border=\"1\" class=\"dataframe\">\n",
       "  <thead>\n",
       "    <tr style=\"text-align: right;\">\n",
       "      <th></th>\n",
       "      <th>count</th>\n",
       "    </tr>\n",
       "  </thead>\n",
       "  <tbody>\n",
       "    <tr>\n",
       "      <th>0</th>\n",
       "      <td>2793</td>\n",
       "    </tr>\n",
       "  </tbody>\n",
       "</table>\n",
       "</div>"
      ],
      "text/plain": [
       "   count\n",
       "0   2793"
      ]
     },
     "execution_count": 17,
     "metadata": {},
     "output_type": "execute_result"
    }
   ],
   "source": [
    "# количество строк\n",
    "basis_4 = '''\n",
    "SELECT COUNT(*)\n",
    "FROM reviews\n",
    "'''\n",
    "get_sql_data(basis_4)"
   ]
  },
  {
   "cell_type": "code",
   "execution_count": 18,
   "metadata": {},
   "outputs": [
    {
     "data": {
      "text/html": [
       "<div>\n",
       "<style scoped>\n",
       "    .dataframe tbody tr th:only-of-type {\n",
       "        vertical-align: middle;\n",
       "    }\n",
       "\n",
       "    .dataframe tbody tr th {\n",
       "        vertical-align: top;\n",
       "    }\n",
       "\n",
       "    .dataframe thead th {\n",
       "        text-align: right;\n",
       "    }\n",
       "</style>\n",
       "<table border=\"1\" class=\"dataframe\">\n",
       "  <thead>\n",
       "    <tr style=\"text-align: right;\">\n",
       "      <th></th>\n",
       "      <th>column_name</th>\n",
       "      <th>data_type</th>\n",
       "    </tr>\n",
       "  </thead>\n",
       "  <tbody>\n",
       "    <tr>\n",
       "      <th>0</th>\n",
       "      <td>review_id</td>\n",
       "      <td>integer</td>\n",
       "    </tr>\n",
       "    <tr>\n",
       "      <th>1</th>\n",
       "      <td>book_id</td>\n",
       "      <td>integer</td>\n",
       "    </tr>\n",
       "    <tr>\n",
       "      <th>2</th>\n",
       "      <td>username</td>\n",
       "      <td>text</td>\n",
       "    </tr>\n",
       "    <tr>\n",
       "      <th>3</th>\n",
       "      <td>text</td>\n",
       "      <td>text</td>\n",
       "    </tr>\n",
       "  </tbody>\n",
       "</table>\n",
       "</div>"
      ],
      "text/plain": [
       "  column_name data_type\n",
       "0   review_id   integer\n",
       "1     book_id   integer\n",
       "2    username      text\n",
       "3        text      text"
      ]
     },
     "execution_count": 18,
     "metadata": {},
     "output_type": "execute_result"
    }
   ],
   "source": [
    "#смотрю типы данных\n",
    "basis_4 = '''\n",
    "SELECT column_name, data_type\n",
    "FROM information_schema.columns\n",
    "WHERE table_name = 'reviews';\n",
    "\n",
    "'''\n",
    "get_sql_data(basis_4)"
   ]
  },
  {
   "cell_type": "markdown",
   "metadata": {},
   "source": [
    "### Таблица 5"
   ]
  },
  {
   "cell_type": "code",
   "execution_count": 19,
   "metadata": {},
   "outputs": [
    {
     "data": {
      "text/html": [
       "<div>\n",
       "<style scoped>\n",
       "    .dataframe tbody tr th:only-of-type {\n",
       "        vertical-align: middle;\n",
       "    }\n",
       "\n",
       "    .dataframe tbody tr th {\n",
       "        vertical-align: top;\n",
       "    }\n",
       "\n",
       "    .dataframe thead th {\n",
       "        text-align: right;\n",
       "    }\n",
       "</style>\n",
       "<table border=\"1\" class=\"dataframe\">\n",
       "  <thead>\n",
       "    <tr style=\"text-align: right;\">\n",
       "      <th></th>\n",
       "      <th>publisher_id</th>\n",
       "      <th>publisher</th>\n",
       "    </tr>\n",
       "  </thead>\n",
       "  <tbody>\n",
       "    <tr>\n",
       "      <th>0</th>\n",
       "      <td>1</td>\n",
       "      <td>Ace</td>\n",
       "    </tr>\n",
       "    <tr>\n",
       "      <th>1</th>\n",
       "      <td>2</td>\n",
       "      <td>Ace Book</td>\n",
       "    </tr>\n",
       "    <tr>\n",
       "      <th>2</th>\n",
       "      <td>3</td>\n",
       "      <td>Ace Books</td>\n",
       "    </tr>\n",
       "    <tr>\n",
       "      <th>3</th>\n",
       "      <td>4</td>\n",
       "      <td>Ace Hardcover</td>\n",
       "    </tr>\n",
       "    <tr>\n",
       "      <th>4</th>\n",
       "      <td>5</td>\n",
       "      <td>Addison Wesley Publishing Company</td>\n",
       "    </tr>\n",
       "  </tbody>\n",
       "</table>\n",
       "</div>"
      ],
      "text/plain": [
       "   publisher_id                          publisher\n",
       "0             1                                Ace\n",
       "1             2                           Ace Book\n",
       "2             3                          Ace Books\n",
       "3             4                      Ace Hardcover\n",
       "4             5  Addison Wesley Publishing Company"
      ]
     },
     "execution_count": 19,
     "metadata": {},
     "output_type": "execute_result"
    }
   ],
   "source": [
    "# ознакомилась с таблицей, вывела 5 первых строк\n",
    "basis_5 = '''\n",
    "SELECT *\n",
    "FROM publishers\n",
    "LIMIT 5\n",
    "'''\n",
    "get_sql_data(basis_5)"
   ]
  },
  {
   "cell_type": "code",
   "execution_count": 20,
   "metadata": {},
   "outputs": [
    {
     "data": {
      "text/html": [
       "<div>\n",
       "<style scoped>\n",
       "    .dataframe tbody tr th:only-of-type {\n",
       "        vertical-align: middle;\n",
       "    }\n",
       "\n",
       "    .dataframe tbody tr th {\n",
       "        vertical-align: top;\n",
       "    }\n",
       "\n",
       "    .dataframe thead th {\n",
       "        text-align: right;\n",
       "    }\n",
       "</style>\n",
       "<table border=\"1\" class=\"dataframe\">\n",
       "  <thead>\n",
       "    <tr style=\"text-align: right;\">\n",
       "      <th></th>\n",
       "      <th>count</th>\n",
       "    </tr>\n",
       "  </thead>\n",
       "  <tbody>\n",
       "    <tr>\n",
       "      <th>0</th>\n",
       "      <td>340</td>\n",
       "    </tr>\n",
       "  </tbody>\n",
       "</table>\n",
       "</div>"
      ],
      "text/plain": [
       "   count\n",
       "0    340"
      ]
     },
     "execution_count": 20,
     "metadata": {},
     "output_type": "execute_result"
    }
   ],
   "source": [
    "# количество строк\n",
    "basis_5 = '''\n",
    "SELECT COUNT(*)\n",
    "FROM publishers\n",
    "'''\n",
    "get_sql_data(basis_5)"
   ]
  },
  {
   "cell_type": "code",
   "execution_count": 21,
   "metadata": {},
   "outputs": [
    {
     "data": {
      "text/html": [
       "<div>\n",
       "<style scoped>\n",
       "    .dataframe tbody tr th:only-of-type {\n",
       "        vertical-align: middle;\n",
       "    }\n",
       "\n",
       "    .dataframe tbody tr th {\n",
       "        vertical-align: top;\n",
       "    }\n",
       "\n",
       "    .dataframe thead th {\n",
       "        text-align: right;\n",
       "    }\n",
       "</style>\n",
       "<table border=\"1\" class=\"dataframe\">\n",
       "  <thead>\n",
       "    <tr style=\"text-align: right;\">\n",
       "      <th></th>\n",
       "      <th>column_name</th>\n",
       "      <th>data_type</th>\n",
       "    </tr>\n",
       "  </thead>\n",
       "  <tbody>\n",
       "    <tr>\n",
       "      <th>0</th>\n",
       "      <td>publisher_id</td>\n",
       "      <td>integer</td>\n",
       "    </tr>\n",
       "    <tr>\n",
       "      <th>1</th>\n",
       "      <td>publisher</td>\n",
       "      <td>text</td>\n",
       "    </tr>\n",
       "  </tbody>\n",
       "</table>\n",
       "</div>"
      ],
      "text/plain": [
       "    column_name data_type\n",
       "0  publisher_id   integer\n",
       "1     publisher      text"
      ]
     },
     "execution_count": 21,
     "metadata": {},
     "output_type": "execute_result"
    }
   ],
   "source": [
    "#смотрю типы данных\n",
    "basis_5 = '''\n",
    "SELECT column_name, data_type\n",
    "FROM information_schema.columns\n",
    "WHERE table_name = 'publishers';\n",
    "\n",
    "'''\n",
    "get_sql_data(basis_5)"
   ]
  },
  {
   "cell_type": "markdown",
   "metadata": {},
   "source": [
    "Таким образом, я ознакомилась с таблицами, проверила типы данных, установила, что типы данных соответствуют значениям столбцов. Далее приступаю к решению задач и проведению анализа."
   ]
  },
  {
   "cell_type": "markdown",
   "metadata": {},
   "source": [
    "## Проведение анализа"
   ]
  },
  {
   "cell_type": "markdown",
   "metadata": {},
   "source": [
    "### Задача №1. Посчитайте, сколько книг вышло после 1 января 2000 года;"
   ]
  },
  {
   "cell_type": "code",
   "execution_count": 22,
   "metadata": {},
   "outputs": [
    {
     "data": {
      "text/html": [
       "<div>\n",
       "<style scoped>\n",
       "    .dataframe tbody tr th:only-of-type {\n",
       "        vertical-align: middle;\n",
       "    }\n",
       "\n",
       "    .dataframe tbody tr th {\n",
       "        vertical-align: top;\n",
       "    }\n",
       "\n",
       "    .dataframe thead th {\n",
       "        text-align: right;\n",
       "    }\n",
       "</style>\n",
       "<table border=\"1\" class=\"dataframe\">\n",
       "  <thead>\n",
       "    <tr style=\"text-align: right;\">\n",
       "      <th></th>\n",
       "      <th>count</th>\n",
       "    </tr>\n",
       "  </thead>\n",
       "  <tbody>\n",
       "    <tr>\n",
       "      <th>0</th>\n",
       "      <td>819</td>\n",
       "    </tr>\n",
       "  </tbody>\n",
       "</table>\n",
       "</div>"
      ],
      "text/plain": [
       "   count\n",
       "0    819"
      ]
     },
     "execution_count": 22,
     "metadata": {},
     "output_type": "execute_result"
    }
   ],
   "source": [
    "first = '''\n",
    "SELECT COUNT(book_id)\n",
    "FROM books\n",
    "WHERE CAST(publication_date  AS DATE)>'2000-01-01';\n",
    "'''\n",
    "get_sql_data(first)"
   ]
  },
  {
   "cell_type": "markdown",
   "metadata": {},
   "source": [
    "Установлено, что после 1 января 2000 года вышло 819 книг."
   ]
  },
  {
   "cell_type": "markdown",
   "metadata": {},
   "source": [
    "### Задача №2. Для каждой книги посчитайте количество обзоров и среднюю оценку;"
   ]
  },
  {
   "cell_type": "code",
   "execution_count": 23,
   "metadata": {
    "scrolled": false
   },
   "outputs": [
    {
     "data": {
      "text/html": [
       "<div>\n",
       "<style scoped>\n",
       "    .dataframe tbody tr th:only-of-type {\n",
       "        vertical-align: middle;\n",
       "    }\n",
       "\n",
       "    .dataframe tbody tr th {\n",
       "        vertical-align: top;\n",
       "    }\n",
       "\n",
       "    .dataframe thead th {\n",
       "        text-align: right;\n",
       "    }\n",
       "</style>\n",
       "<table border=\"1\" class=\"dataframe\">\n",
       "  <thead>\n",
       "    <tr style=\"text-align: right;\">\n",
       "      <th></th>\n",
       "      <th>book_id</th>\n",
       "      <th>title</th>\n",
       "      <th>count_of_reviews</th>\n",
       "      <th>average_rating</th>\n",
       "    </tr>\n",
       "  </thead>\n",
       "  <tbody>\n",
       "    <tr>\n",
       "      <th>0</th>\n",
       "      <td>86</td>\n",
       "      <td>Arrows of the Queen (Heralds of Valdemar  #1)</td>\n",
       "      <td>2</td>\n",
       "      <td>5.00</td>\n",
       "    </tr>\n",
       "    <tr>\n",
       "      <th>1</th>\n",
       "      <td>901</td>\n",
       "      <td>The Walking Dead  Book One (The Walking Dead #1-12)</td>\n",
       "      <td>2</td>\n",
       "      <td>5.00</td>\n",
       "    </tr>\n",
       "    <tr>\n",
       "      <th>2</th>\n",
       "      <td>390</td>\n",
       "      <td>Light in August</td>\n",
       "      <td>2</td>\n",
       "      <td>5.00</td>\n",
       "    </tr>\n",
       "    <tr>\n",
       "      <th>3</th>\n",
       "      <td>972</td>\n",
       "      <td>Wherever You Go  There You Are: Mindfulness Meditation in Everyday Life</td>\n",
       "      <td>2</td>\n",
       "      <td>5.00</td>\n",
       "    </tr>\n",
       "    <tr>\n",
       "      <th>4</th>\n",
       "      <td>136</td>\n",
       "      <td>Captivating: Unveiling the Mystery of a Woman's Soul</td>\n",
       "      <td>2</td>\n",
       "      <td>5.00</td>\n",
       "    </tr>\n",
       "    <tr>\n",
       "      <th>...</th>\n",
       "      <td>...</td>\n",
       "      <td>...</td>\n",
       "      <td>...</td>\n",
       "      <td>...</td>\n",
       "    </tr>\n",
       "    <tr>\n",
       "      <th>995</th>\n",
       "      <td>915</td>\n",
       "      <td>The World Is Flat: A Brief History of the Twenty-first Century</td>\n",
       "      <td>3</td>\n",
       "      <td>2.25</td>\n",
       "    </tr>\n",
       "    <tr>\n",
       "      <th>996</th>\n",
       "      <td>316</td>\n",
       "      <td>His Excellency: George Washington</td>\n",
       "      <td>2</td>\n",
       "      <td>2.00</td>\n",
       "    </tr>\n",
       "    <tr>\n",
       "      <th>997</th>\n",
       "      <td>202</td>\n",
       "      <td>Drowning Ruth</td>\n",
       "      <td>3</td>\n",
       "      <td>2.00</td>\n",
       "    </tr>\n",
       "    <tr>\n",
       "      <th>998</th>\n",
       "      <td>371</td>\n",
       "      <td>Junky</td>\n",
       "      <td>2</td>\n",
       "      <td>2.00</td>\n",
       "    </tr>\n",
       "    <tr>\n",
       "      <th>999</th>\n",
       "      <td>303</td>\n",
       "      <td>Harvesting the Heart</td>\n",
       "      <td>2</td>\n",
       "      <td>1.50</td>\n",
       "    </tr>\n",
       "  </tbody>\n",
       "</table>\n",
       "<p>1000 rows × 4 columns</p>\n",
       "</div>"
      ],
      "text/plain": [
       "     book_id  \\\n",
       "0         86   \n",
       "1        901   \n",
       "2        390   \n",
       "3        972   \n",
       "4        136   \n",
       "..       ...   \n",
       "995      915   \n",
       "996      316   \n",
       "997      202   \n",
       "998      371   \n",
       "999      303   \n",
       "\n",
       "                                                                       title  \\\n",
       "0                              Arrows of the Queen (Heralds of Valdemar  #1)   \n",
       "1                        The Walking Dead  Book One (The Walking Dead #1-12)   \n",
       "2                                                            Light in August   \n",
       "3    Wherever You Go  There You Are: Mindfulness Meditation in Everyday Life   \n",
       "4                       Captivating: Unveiling the Mystery of a Woman's Soul   \n",
       "..                                                                       ...   \n",
       "995           The World Is Flat: A Brief History of the Twenty-first Century   \n",
       "996                                        His Excellency: George Washington   \n",
       "997                                                            Drowning Ruth   \n",
       "998                                                                    Junky   \n",
       "999                                                     Harvesting the Heart   \n",
       "\n",
       "     count_of_reviews  average_rating  \n",
       "0                   2            5.00  \n",
       "1                   2            5.00  \n",
       "2                   2            5.00  \n",
       "3                   2            5.00  \n",
       "4                   2            5.00  \n",
       "..                ...             ...  \n",
       "995                 3            2.25  \n",
       "996                 2            2.00  \n",
       "997                 3            2.00  \n",
       "998                 2            2.00  \n",
       "999                 2            1.50  \n",
       "\n",
       "[1000 rows x 4 columns]"
      ]
     },
     "execution_count": 23,
     "metadata": {},
     "output_type": "execute_result"
    }
   ],
   "source": [
    "second = '''\n",
    "SELECT b.book_id,\n",
    "       b.title,\n",
    "       COUNT(distinct r.review_id) AS count_of_reviews,\n",
    "       ROUND(AVG(rt.rating), 3) AS average_rating       \n",
    "FROM books AS b\n",
    "LEFT JOIN reviews AS r ON b.book_id = r.book_id\n",
    "LEFT JOIN ratings AS rt ON b.book_id = rt.book_id\n",
    "GROUP BY b.book_id, b.title\n",
    "ORDER BY average_rating desc;\n",
    "\n",
    "'''\n",
    "get_sql_data(second)\n"
   ]
  },
  {
   "cell_type": "code",
   "execution_count": 24,
   "metadata": {
    "scrolled": false
   },
   "outputs": [
    {
     "data": {
      "text/html": [
       "<div>\n",
       "<style scoped>\n",
       "    .dataframe tbody tr th:only-of-type {\n",
       "        vertical-align: middle;\n",
       "    }\n",
       "\n",
       "    .dataframe tbody tr th {\n",
       "        vertical-align: top;\n",
       "    }\n",
       "\n",
       "    .dataframe thead th {\n",
       "        text-align: right;\n",
       "    }\n",
       "</style>\n",
       "<table border=\"1\" class=\"dataframe\">\n",
       "  <thead>\n",
       "    <tr style=\"text-align: right;\">\n",
       "      <th></th>\n",
       "      <th>book_id</th>\n",
       "      <th>title</th>\n",
       "      <th>count_of_reviews</th>\n",
       "      <th>average_rating</th>\n",
       "    </tr>\n",
       "  </thead>\n",
       "  <tbody>\n",
       "    <tr>\n",
       "      <th>0</th>\n",
       "      <td>948</td>\n",
       "      <td>Twilight (Twilight  #1)</td>\n",
       "      <td>7</td>\n",
       "      <td>3.663</td>\n",
       "    </tr>\n",
       "    <tr>\n",
       "      <th>1</th>\n",
       "      <td>963</td>\n",
       "      <td>Water for Elephants</td>\n",
       "      <td>6</td>\n",
       "      <td>3.977</td>\n",
       "    </tr>\n",
       "    <tr>\n",
       "      <th>2</th>\n",
       "      <td>734</td>\n",
       "      <td>The Glass Castle</td>\n",
       "      <td>6</td>\n",
       "      <td>4.207</td>\n",
       "    </tr>\n",
       "    <tr>\n",
       "      <th>3</th>\n",
       "      <td>302</td>\n",
       "      <td>Harry Potter and the Prisoner of Azkaban (Harry Potter  #3)</td>\n",
       "      <td>6</td>\n",
       "      <td>4.415</td>\n",
       "    </tr>\n",
       "    <tr>\n",
       "      <th>4</th>\n",
       "      <td>695</td>\n",
       "      <td>The Curious Incident of the Dog in the Night-Time</td>\n",
       "      <td>6</td>\n",
       "      <td>4.081</td>\n",
       "    </tr>\n",
       "    <tr>\n",
       "      <th>...</th>\n",
       "      <td>...</td>\n",
       "      <td>...</td>\n",
       "      <td>...</td>\n",
       "      <td>...</td>\n",
       "    </tr>\n",
       "    <tr>\n",
       "      <th>995</th>\n",
       "      <td>83</td>\n",
       "      <td>Anne Rice's The Vampire Lestat: A Graphic Novel</td>\n",
       "      <td>0</td>\n",
       "      <td>3.667</td>\n",
       "    </tr>\n",
       "    <tr>\n",
       "      <th>996</th>\n",
       "      <td>808</td>\n",
       "      <td>The Natural Way to Draw</td>\n",
       "      <td>0</td>\n",
       "      <td>3.000</td>\n",
       "    </tr>\n",
       "    <tr>\n",
       "      <th>997</th>\n",
       "      <td>672</td>\n",
       "      <td>The Cat in the Hat and Other Dr. Seuss Favorites</td>\n",
       "      <td>0</td>\n",
       "      <td>5.000</td>\n",
       "    </tr>\n",
       "    <tr>\n",
       "      <th>998</th>\n",
       "      <td>221</td>\n",
       "      <td>Essential Tales and Poems</td>\n",
       "      <td>0</td>\n",
       "      <td>4.000</td>\n",
       "    </tr>\n",
       "    <tr>\n",
       "      <th>999</th>\n",
       "      <td>191</td>\n",
       "      <td>Disney's Beauty and the Beast (A Little Golden Book)</td>\n",
       "      <td>0</td>\n",
       "      <td>4.000</td>\n",
       "    </tr>\n",
       "  </tbody>\n",
       "</table>\n",
       "<p>1000 rows × 4 columns</p>\n",
       "</div>"
      ],
      "text/plain": [
       "     book_id                                                        title  \\\n",
       "0        948                                      Twilight (Twilight  #1)   \n",
       "1        963                                          Water for Elephants   \n",
       "2        734                                             The Glass Castle   \n",
       "3        302  Harry Potter and the Prisoner of Azkaban (Harry Potter  #3)   \n",
       "4        695            The Curious Incident of the Dog in the Night-Time   \n",
       "..       ...                                                          ...   \n",
       "995       83              Anne Rice's The Vampire Lestat: A Graphic Novel   \n",
       "996      808                                      The Natural Way to Draw   \n",
       "997      672             The Cat in the Hat and Other Dr. Seuss Favorites   \n",
       "998      221                                    Essential Tales and Poems   \n",
       "999      191         Disney's Beauty and the Beast (A Little Golden Book)   \n",
       "\n",
       "     count_of_reviews  average_rating  \n",
       "0                   7           3.663  \n",
       "1                   6           3.977  \n",
       "2                   6           4.207  \n",
       "3                   6           4.415  \n",
       "4                   6           4.081  \n",
       "..                ...             ...  \n",
       "995                 0           3.667  \n",
       "996                 0           3.000  \n",
       "997                 0           5.000  \n",
       "998                 0           4.000  \n",
       "999                 0           4.000  \n",
       "\n",
       "[1000 rows x 4 columns]"
      ]
     },
     "execution_count": 24,
     "metadata": {},
     "output_type": "execute_result"
    }
   ],
   "source": [
    "second = '''\n",
    "SELECT b.book_id,\n",
    "       b.title,\n",
    "       COUNT(distinct r.review_id) AS count_of_reviews,\n",
    "       ROUND(AVG(rt.rating), 3) AS average_rating       \n",
    "FROM books AS b\n",
    "LEFT JOIN reviews AS r ON b.book_id = r.book_id\n",
    "LEFT JOIN ratings AS rt ON b.book_id = rt.book_id\n",
    "GROUP BY b.book_id, b.title\n",
    "ORDER BY count_of_reviews desc;\n",
    "\n",
    "'''\n",
    "get_sql_data(second)\n"
   ]
  },
  {
   "cell_type": "markdown",
   "metadata": {},
   "source": [
    "Второй раз задачу №2 вывела, чтобы показать фильтр по количеству обзоров. Наибольшее количество обзоров в размере 7ми установлено у книги Twilight (Twilight #1).\t"
   ]
  },
  {
   "cell_type": "markdown",
   "metadata": {},
   "source": [
    "Таким образом, выведены количество обзоров и средняя оценка книг. Самый высокий рейтинг - 5, данным рейтингом обладают несколько книг, самый низкий - 1.5 у книги Harvesting the Heart. Наибольшее количество обзоров в размере 7ми установлено у книги Twilight (Twilight #1).\t"
   ]
  },
  {
   "cell_type": "markdown",
   "metadata": {},
   "source": [
    "### Задача №3. Определите издательство, которое выпустило наибольшее число книг толще 50 страниц — так вы исключите из анализа брошюры;"
   ]
  },
  {
   "cell_type": "code",
   "execution_count": 25,
   "metadata": {},
   "outputs": [
    {
     "data": {
      "text/html": [
       "<div>\n",
       "<style scoped>\n",
       "    .dataframe tbody tr th:only-of-type {\n",
       "        vertical-align: middle;\n",
       "    }\n",
       "\n",
       "    .dataframe tbody tr th {\n",
       "        vertical-align: top;\n",
       "    }\n",
       "\n",
       "    .dataframe thead th {\n",
       "        text-align: right;\n",
       "    }\n",
       "</style>\n",
       "<table border=\"1\" class=\"dataframe\">\n",
       "  <thead>\n",
       "    <tr style=\"text-align: right;\">\n",
       "      <th></th>\n",
       "      <th>publisher</th>\n",
       "      <th>count_of_books</th>\n",
       "    </tr>\n",
       "  </thead>\n",
       "  <tbody>\n",
       "    <tr>\n",
       "      <th>0</th>\n",
       "      <td>Penguin Books</td>\n",
       "      <td>42</td>\n",
       "    </tr>\n",
       "  </tbody>\n",
       "</table>\n",
       "</div>"
      ],
      "text/plain": [
       "       publisher  count_of_books\n",
       "0  Penguin Books              42"
      ]
     },
     "execution_count": 25,
     "metadata": {},
     "output_type": "execute_result"
    }
   ],
   "source": [
    "third = '''\n",
    "SELECT pub.publisher,\n",
    "       COUNT(b.book_id) AS count_of_books\n",
    "FROM publishers AS pub\n",
    "JOIN books AS b ON b.publisher_id = pub.publisher_id\n",
    "WHERE b.num_pages>50\n",
    "GROUP BY pub.publisher\n",
    "ORDER BY count_of_books DESC\n",
    "LIMIT 1;\n",
    "'''\n",
    "get_sql_data(third)"
   ]
  },
  {
   "cell_type": "markdown",
   "metadata": {},
   "source": [
    "Издательство, которое выпустило наибольшее количество книг толщиной более 50 страниц - Penguin Books, количество изданных книг составило 42."
   ]
  },
  {
   "cell_type": "markdown",
   "metadata": {},
   "source": [
    "### Задача №4. Определите автора с самой высокой средней оценкой книг — учитывайте только книги с 50 и более оценками;"
   ]
  },
  {
   "cell_type": "code",
   "execution_count": 26,
   "metadata": {
    "scrolled": true
   },
   "outputs": [
    {
     "data": {
      "text/html": [
       "<div>\n",
       "<style scoped>\n",
       "    .dataframe tbody tr th:only-of-type {\n",
       "        vertical-align: middle;\n",
       "    }\n",
       "\n",
       "    .dataframe tbody tr th {\n",
       "        vertical-align: top;\n",
       "    }\n",
       "\n",
       "    .dataframe thead th {\n",
       "        text-align: right;\n",
       "    }\n",
       "</style>\n",
       "<table border=\"1\" class=\"dataframe\">\n",
       "  <thead>\n",
       "    <tr style=\"text-align: right;\">\n",
       "      <th></th>\n",
       "      <th>author</th>\n",
       "      <th>avg_rating</th>\n",
       "    </tr>\n",
       "  </thead>\n",
       "  <tbody>\n",
       "    <tr>\n",
       "      <th>0</th>\n",
       "      <td>J.K. Rowling/Mary GrandPré</td>\n",
       "      <td>4.287097</td>\n",
       "    </tr>\n",
       "  </tbody>\n",
       "</table>\n",
       "</div>"
      ],
      "text/plain": [
       "                       author  avg_rating\n",
       "0  J.K. Rowling/Mary GrandPré    4.287097"
      ]
     },
     "execution_count": 26,
     "metadata": {},
     "output_type": "execute_result"
    }
   ],
   "source": [
    "fourth = '''\n",
    "WITH sorted_books AS(\n",
    "SELECT b.book_id AS book_id\n",
    "FROM books AS b\n",
    "LEFT JOIN ratings AS rt ON b.book_id = rt.book_id\n",
    "GROUP BY b.book_id\n",
    "HAVING COUNT(rt.rating_id)>=50\n",
    ") \n",
    "\n",
    "SELECT a.author AS author,\n",
    "       AVG(rt.rating) AS avg_rating       \n",
    "FROM authors AS a\n",
    "LEFT JOIN books AS b ON b.author_id = a.author_id\n",
    "LEFT JOIN ratings AS rt ON rt.book_id = b.book_id\n",
    "WHERE b.book_id IN \n",
    "      (SELECT book_id\n",
    "       FROM sorted_books)\n",
    "GROUP BY a.author\n",
    "ORDER BY AVG(rt.rating) DESC\n",
    "LIMIT 1\n",
    "\n",
    "'''\n",
    "get_sql_data(fourth)"
   ]
  },
  {
   "cell_type": "markdown",
   "metadata": {},
   "source": [
    "Автор с самой высокой средней оценкой книги при учете книг с 50 и более оценками - J.K. Rowling/Mary GrandPré. Средняя оценка ее книг составляет 4.287."
   ]
  },
  {
   "cell_type": "markdown",
   "metadata": {},
   "source": [
    "### Задача №5. Посчитайте среднее количество обзоров от пользователей, которые поставили больше 48 оценок."
   ]
  },
  {
   "cell_type": "code",
   "execution_count": 27,
   "metadata": {},
   "outputs": [
    {
     "data": {
      "text/html": [
       "<div>\n",
       "<style scoped>\n",
       "    .dataframe tbody tr th:only-of-type {\n",
       "        vertical-align: middle;\n",
       "    }\n",
       "\n",
       "    .dataframe tbody tr th {\n",
       "        vertical-align: top;\n",
       "    }\n",
       "\n",
       "    .dataframe thead th {\n",
       "        text-align: right;\n",
       "    }\n",
       "</style>\n",
       "<table border=\"1\" class=\"dataframe\">\n",
       "  <thead>\n",
       "    <tr style=\"text-align: right;\">\n",
       "      <th></th>\n",
       "      <th>avg</th>\n",
       "    </tr>\n",
       "  </thead>\n",
       "  <tbody>\n",
       "    <tr>\n",
       "      <th>0</th>\n",
       "      <td>24.0</td>\n",
       "    </tr>\n",
       "  </tbody>\n",
       "</table>\n",
       "</div>"
      ],
      "text/plain": [
       "    avg\n",
       "0  24.0"
      ]
     },
     "execution_count": 27,
     "metadata": {},
     "output_type": "execute_result"
    }
   ],
   "source": [
    "fifth = '''\n",
    "WITH names_and_ratings AS(\n",
    "SELECT DISTINCT username,\n",
    "       COUNT(rating_id) AS count_of_ratings\n",
    "FROM ratings\n",
    "GROUP BY username\n",
    "HAVING COUNT(rating_id)>48\n",
    "ORDER BY COUNT(rating_id) DESC\n",
    "), \n",
    "reviews AS(\n",
    "SELECT COUNT(review_id) AS count_of_reviews,\n",
    "       username\n",
    "FROM reviews\n",
    "WHERE username IN (SELECT username FROM names_and_ratings)\n",
    "GROUP BY username\n",
    ")\n",
    "SELECT AVG(count_of_reviews)\n",
    "FROM reviews\n",
    "\n",
    "'''\n",
    "get_sql_data(fifth)"
   ]
  },
  {
   "cell_type": "markdown",
   "metadata": {},
   "source": [
    "Среднее количество обзоров от пользователей, которые поставили больше 48 оценок, составляет 24."
   ]
  },
  {
   "cell_type": "markdown",
   "metadata": {},
   "source": [
    "## Формирование предложений"
   ]
  },
  {
   "cell_type": "markdown",
   "metadata": {},
   "source": [
    "Таким образом, в новом приложении рекомендуется:\n",
    "\n",
    "- загрузить книги с высокими оценками, например, Arrows of the Queen (Heralds of Valdemar #1);\n",
    "- загрузить книги с большим количеством обзоров, например, Twilight (Twilight #1);\n",
    "- загрузить книги издательства Penguin Books, возможно, за счет большого числа изданных книг, данное издательство знакомо более широкой аудитории читателей;\n",
    "- загрузить книги авторов, имеющих самые высокие средние оценки и наибольшее количество таких оценок, например, книги автора J.K. Rowling/Mary GrandPré. Средняя оценка ее книг составляет 4.287."
   ]
  }
 ],
 "metadata": {
  "ExecuteTimeLog": [
   {
    "duration": 8820,
    "start_time": "2024-02-29T11:02:51.644Z"
   },
   {
    "duration": 231,
    "start_time": "2024-02-29T11:03:02.450Z"
   },
   {
    "duration": 5,
    "start_time": "2024-02-29T11:03:22.415Z"
   },
   {
    "duration": 226,
    "start_time": "2024-02-29T11:03:23.298Z"
   },
   {
    "duration": 9140,
    "start_time": "2024-02-29T11:24:45.293Z"
   },
   {
    "duration": 237,
    "start_time": "2024-02-29T11:24:54.435Z"
   },
   {
    "duration": 59,
    "start_time": "2024-02-29T11:24:54.673Z"
   },
   {
    "duration": 62,
    "start_time": "2024-02-29T11:24:54.734Z"
   },
   {
    "duration": 51,
    "start_time": "2024-02-29T11:24:54.798Z"
   },
   {
    "duration": 50,
    "start_time": "2024-02-29T11:24:54.851Z"
   },
   {
    "duration": 51,
    "start_time": "2024-02-29T11:24:54.903Z"
   },
   {
    "duration": 51,
    "start_time": "2024-02-29T11:24:54.956Z"
   },
   {
    "duration": 51,
    "start_time": "2024-02-29T11:24:55.009Z"
   },
   {
    "duration": 53,
    "start_time": "2024-02-29T11:24:55.062Z"
   },
   {
    "duration": 49,
    "start_time": "2024-02-29T11:24:55.117Z"
   },
   {
    "duration": 56,
    "start_time": "2024-02-29T11:24:55.168Z"
   },
   {
    "duration": 53,
    "start_time": "2024-02-29T11:28:13.265Z"
   },
   {
    "duration": 52,
    "start_time": "2024-02-29T11:28:23.300Z"
   },
   {
    "duration": 130,
    "start_time": "2024-02-29T11:30:13.805Z"
   },
   {
    "duration": 63,
    "start_time": "2024-02-29T11:30:37.699Z"
   },
   {
    "duration": 62,
    "start_time": "2024-02-29T11:30:50.786Z"
   },
   {
    "duration": 62,
    "start_time": "2024-02-29T11:30:52.798Z"
   },
   {
    "duration": 8601,
    "start_time": "2024-02-29T11:32:30.087Z"
   },
   {
    "duration": 228,
    "start_time": "2024-02-29T11:32:38.690Z"
   },
   {
    "duration": 54,
    "start_time": "2024-02-29T11:32:38.919Z"
   },
   {
    "duration": 50,
    "start_time": "2024-02-29T11:32:38.975Z"
   },
   {
    "duration": 130,
    "start_time": "2024-02-29T11:32:39.028Z"
   },
   {
    "duration": 0,
    "start_time": "2024-02-29T11:32:39.161Z"
   },
   {
    "duration": 0,
    "start_time": "2024-02-29T11:32:39.162Z"
   },
   {
    "duration": 0,
    "start_time": "2024-02-29T11:32:39.163Z"
   },
   {
    "duration": 0,
    "start_time": "2024-02-29T11:32:39.166Z"
   },
   {
    "duration": 0,
    "start_time": "2024-02-29T11:32:39.167Z"
   },
   {
    "duration": 0,
    "start_time": "2024-02-29T11:32:39.182Z"
   },
   {
    "duration": 0,
    "start_time": "2024-02-29T11:32:39.184Z"
   },
   {
    "duration": 0,
    "start_time": "2024-02-29T11:32:39.185Z"
   },
   {
    "duration": 62,
    "start_time": "2024-02-29T11:34:09.182Z"
   },
   {
    "duration": 63,
    "start_time": "2024-02-29T11:34:17.089Z"
   },
   {
    "duration": 61,
    "start_time": "2024-02-29T11:38:04.756Z"
   },
   {
    "duration": 71,
    "start_time": "2024-02-29T11:39:27.620Z"
   },
   {
    "duration": 71,
    "start_time": "2024-02-29T11:39:39.062Z"
   },
   {
    "duration": 71,
    "start_time": "2024-02-29T11:39:46.264Z"
   },
   {
    "duration": 59,
    "start_time": "2024-02-29T12:16:44.720Z"
   },
   {
    "duration": 8759,
    "start_time": "2024-02-29T12:18:03.638Z"
   },
   {
    "duration": 239,
    "start_time": "2024-02-29T12:18:12.399Z"
   },
   {
    "duration": 54,
    "start_time": "2024-02-29T12:18:12.639Z"
   },
   {
    "duration": 51,
    "start_time": "2024-02-29T12:18:12.695Z"
   },
   {
    "duration": 58,
    "start_time": "2024-02-29T12:18:12.748Z"
   },
   {
    "duration": 51,
    "start_time": "2024-02-29T12:18:12.807Z"
   },
   {
    "duration": 50,
    "start_time": "2024-02-29T12:18:12.860Z"
   },
   {
    "duration": 52,
    "start_time": "2024-02-29T12:18:12.912Z"
   },
   {
    "duration": 51,
    "start_time": "2024-02-29T12:18:12.966Z"
   },
   {
    "duration": 55,
    "start_time": "2024-02-29T12:18:13.018Z"
   },
   {
    "duration": 53,
    "start_time": "2024-02-29T12:18:13.075Z"
   },
   {
    "duration": 54,
    "start_time": "2024-02-29T12:18:13.130Z"
   },
   {
    "duration": 50,
    "start_time": "2024-02-29T12:18:13.186Z"
   },
   {
    "duration": 50,
    "start_time": "2024-02-29T12:18:48.290Z"
   },
   {
    "duration": 54,
    "start_time": "2024-02-29T12:18:53.927Z"
   },
   {
    "duration": 53,
    "start_time": "2024-02-29T12:19:10.535Z"
   },
   {
    "duration": 53,
    "start_time": "2024-02-29T12:19:36.255Z"
   },
   {
    "duration": 50,
    "start_time": "2024-02-29T12:19:50.221Z"
   },
   {
    "duration": 54,
    "start_time": "2024-02-29T12:20:15.650Z"
   },
   {
    "duration": 50,
    "start_time": "2024-02-29T12:20:27.575Z"
   },
   {
    "duration": 59,
    "start_time": "2024-02-29T12:20:41.605Z"
   },
   {
    "duration": 50,
    "start_time": "2024-02-29T12:24:41.088Z"
   },
   {
    "duration": 51,
    "start_time": "2024-02-29T12:25:17.684Z"
   },
   {
    "duration": 50,
    "start_time": "2024-02-29T12:25:21.353Z"
   },
   {
    "duration": 3,
    "start_time": "2024-02-29T12:25:33.782Z"
   },
   {
    "duration": 51,
    "start_time": "2024-02-29T12:25:38.951Z"
   },
   {
    "duration": 100,
    "start_time": "2024-02-29T12:27:35.040Z"
   },
   {
    "duration": 108,
    "start_time": "2024-02-29T12:28:41.833Z"
   },
   {
    "duration": 89,
    "start_time": "2024-02-29T12:28:46.141Z"
   },
   {
    "duration": 3,
    "start_time": "2024-02-29T12:29:31.744Z"
   },
   {
    "duration": 53,
    "start_time": "2024-02-29T12:31:40.389Z"
   },
   {
    "duration": 56,
    "start_time": "2024-02-29T12:33:30.307Z"
   },
   {
    "duration": 68,
    "start_time": "2024-02-29T12:36:21.434Z"
   },
   {
    "duration": 8572,
    "start_time": "2024-02-29T12:36:49.579Z"
   },
   {
    "duration": 225,
    "start_time": "2024-02-29T12:36:58.153Z"
   },
   {
    "duration": 54,
    "start_time": "2024-02-29T12:36:58.380Z"
   },
   {
    "duration": 51,
    "start_time": "2024-02-29T12:36:58.435Z"
   },
   {
    "duration": 58,
    "start_time": "2024-02-29T12:36:58.489Z"
   },
   {
    "duration": 51,
    "start_time": "2024-02-29T12:36:58.549Z"
   },
   {
    "duration": 50,
    "start_time": "2024-02-29T12:36:58.602Z"
   },
   {
    "duration": 54,
    "start_time": "2024-02-29T12:36:58.654Z"
   },
   {
    "duration": 52,
    "start_time": "2024-02-29T12:36:58.709Z"
   },
   {
    "duration": 50,
    "start_time": "2024-02-29T12:36:58.763Z"
   },
   {
    "duration": 53,
    "start_time": "2024-02-29T12:36:58.814Z"
   },
   {
    "duration": 52,
    "start_time": "2024-02-29T12:36:58.869Z"
   },
   {
    "duration": 50,
    "start_time": "2024-02-29T12:36:58.923Z"
   },
   {
    "duration": 53,
    "start_time": "2024-02-29T12:36:58.976Z"
   },
   {
    "duration": 52,
    "start_time": "2024-02-29T12:36:59.031Z"
   },
   {
    "duration": 50,
    "start_time": "2024-02-29T12:36:59.084Z"
   },
   {
    "duration": 52,
    "start_time": "2024-02-29T12:36:59.135Z"
   },
   {
    "duration": 50,
    "start_time": "2024-02-29T12:36:59.188Z"
   },
   {
    "duration": 96,
    "start_time": "2024-02-29T12:36:59.239Z"
   },
   {
    "duration": 55,
    "start_time": "2024-02-29T12:36:59.337Z"
   },
   {
    "duration": 57,
    "start_time": "2024-02-29T12:36:59.394Z"
   },
   {
    "duration": 67,
    "start_time": "2024-02-29T12:36:59.452Z"
   },
   {
    "duration": 83,
    "start_time": "2024-02-29T12:39:50.909Z"
   },
   {
    "duration": 81,
    "start_time": "2024-02-29T12:40:14.569Z"
   },
   {
    "duration": 8772,
    "start_time": "2024-02-29T12:40:21.890Z"
   },
   {
    "duration": 228,
    "start_time": "2024-02-29T12:40:30.664Z"
   },
   {
    "duration": 79,
    "start_time": "2024-02-29T12:40:30.894Z"
   },
   {
    "duration": 52,
    "start_time": "2024-02-29T12:40:30.975Z"
   },
   {
    "duration": 76,
    "start_time": "2024-02-29T12:40:31.029Z"
   },
   {
    "duration": 76,
    "start_time": "2024-02-29T12:40:31.106Z"
   },
   {
    "duration": 170,
    "start_time": "2024-02-29T12:40:31.183Z"
   },
   {
    "duration": 66,
    "start_time": "2024-02-29T12:40:31.354Z"
   },
   {
    "duration": 68,
    "start_time": "2024-02-29T12:40:31.422Z"
   },
   {
    "duration": 89,
    "start_time": "2024-02-29T12:40:31.491Z"
   },
   {
    "duration": 68,
    "start_time": "2024-02-29T12:40:31.582Z"
   },
   {
    "duration": 52,
    "start_time": "2024-02-29T12:40:31.652Z"
   },
   {
    "duration": 157,
    "start_time": "2024-02-29T12:40:31.706Z"
   },
   {
    "duration": 53,
    "start_time": "2024-02-29T12:40:31.866Z"
   },
   {
    "duration": 54,
    "start_time": "2024-02-29T12:40:31.921Z"
   },
   {
    "duration": 93,
    "start_time": "2024-02-29T12:40:31.976Z"
   },
   {
    "duration": 50,
    "start_time": "2024-02-29T12:40:32.071Z"
   },
   {
    "duration": 123,
    "start_time": "2024-02-29T12:40:32.123Z"
   },
   {
    "duration": 240,
    "start_time": "2024-02-29T12:40:32.248Z"
   },
   {
    "duration": 165,
    "start_time": "2024-02-29T12:40:32.490Z"
   },
   {
    "duration": 50,
    "start_time": "2024-02-29T12:40:32.657Z"
   },
   {
    "duration": 102,
    "start_time": "2024-02-29T12:40:32.709Z"
   },
   {
    "duration": 66,
    "start_time": "2024-02-29T12:40:32.812Z"
   },
   {
    "duration": 3,
    "start_time": "2024-02-29T12:41:17.114Z"
   },
   {
    "duration": 74,
    "start_time": "2024-02-29T12:41:32.811Z"
   },
   {
    "duration": 3,
    "start_time": "2024-02-29T12:41:54.730Z"
   },
   {
    "duration": 9257,
    "start_time": "2024-02-29T12:42:00.372Z"
   },
   {
    "duration": 228,
    "start_time": "2024-02-29T12:42:09.631Z"
   },
   {
    "duration": 3,
    "start_time": "2024-02-29T12:42:09.861Z"
   },
   {
    "duration": 56,
    "start_time": "2024-02-29T12:42:09.866Z"
   },
   {
    "duration": 50,
    "start_time": "2024-02-29T12:42:09.925Z"
   },
   {
    "duration": 54,
    "start_time": "2024-02-29T12:42:09.976Z"
   },
   {
    "duration": 51,
    "start_time": "2024-02-29T12:42:10.031Z"
   },
   {
    "duration": 50,
    "start_time": "2024-02-29T12:42:10.083Z"
   },
   {
    "duration": 53,
    "start_time": "2024-02-29T12:42:10.135Z"
   },
   {
    "duration": 52,
    "start_time": "2024-02-29T12:42:10.189Z"
   },
   {
    "duration": 50,
    "start_time": "2024-02-29T12:42:10.242Z"
   },
   {
    "duration": 53,
    "start_time": "2024-02-29T12:42:10.294Z"
   },
   {
    "duration": 52,
    "start_time": "2024-02-29T12:42:10.348Z"
   },
   {
    "duration": 49,
    "start_time": "2024-02-29T12:42:10.402Z"
   },
   {
    "duration": 54,
    "start_time": "2024-02-29T12:42:10.453Z"
   },
   {
    "duration": 51,
    "start_time": "2024-02-29T12:42:10.509Z"
   },
   {
    "duration": 48,
    "start_time": "2024-02-29T12:42:10.562Z"
   },
   {
    "duration": 52,
    "start_time": "2024-02-29T12:42:10.612Z"
   },
   {
    "duration": 50,
    "start_time": "2024-02-29T12:42:10.666Z"
   },
   {
    "duration": 91,
    "start_time": "2024-02-29T12:42:10.717Z"
   },
   {
    "duration": 52,
    "start_time": "2024-02-29T12:42:10.810Z"
   },
   {
    "duration": 73,
    "start_time": "2024-02-29T12:42:10.863Z"
   },
   {
    "duration": 68,
    "start_time": "2024-02-29T12:42:10.937Z"
   },
   {
    "duration": 2,
    "start_time": "2024-02-29T12:42:39.002Z"
   },
   {
    "duration": 89,
    "start_time": "2024-02-29T12:43:58.159Z"
   },
   {
    "duration": 86,
    "start_time": "2024-02-29T12:44:10.938Z"
   },
   {
    "duration": 87,
    "start_time": "2024-02-29T12:45:12.252Z"
   },
   {
    "duration": 85,
    "start_time": "2024-02-29T12:45:23.120Z"
   },
   {
    "duration": 8724,
    "start_time": "2024-03-01T04:20:06.867Z"
   },
   {
    "duration": 250,
    "start_time": "2024-03-01T04:20:15.593Z"
   },
   {
    "duration": 3,
    "start_time": "2024-03-01T04:20:15.844Z"
   },
   {
    "duration": 68,
    "start_time": "2024-03-01T04:20:15.848Z"
   },
   {
    "duration": 51,
    "start_time": "2024-03-01T04:20:15.918Z"
   },
   {
    "duration": 59,
    "start_time": "2024-03-01T04:20:15.970Z"
   },
   {
    "duration": 53,
    "start_time": "2024-03-01T04:20:16.030Z"
   },
   {
    "duration": 52,
    "start_time": "2024-03-01T04:20:16.084Z"
   },
   {
    "duration": 54,
    "start_time": "2024-03-01T04:20:16.137Z"
   },
   {
    "duration": 54,
    "start_time": "2024-03-01T04:20:16.192Z"
   },
   {
    "duration": 53,
    "start_time": "2024-03-01T04:20:16.247Z"
   },
   {
    "duration": 56,
    "start_time": "2024-03-01T04:20:16.301Z"
   },
   {
    "duration": 56,
    "start_time": "2024-03-01T04:20:16.359Z"
   },
   {
    "duration": 51,
    "start_time": "2024-03-01T04:20:16.418Z"
   },
   {
    "duration": 54,
    "start_time": "2024-03-01T04:20:16.470Z"
   },
   {
    "duration": 52,
    "start_time": "2024-03-01T04:20:16.525Z"
   },
   {
    "duration": 55,
    "start_time": "2024-03-01T04:20:16.578Z"
   },
   {
    "duration": 54,
    "start_time": "2024-03-01T04:20:16.634Z"
   },
   {
    "duration": 54,
    "start_time": "2024-03-01T04:20:16.689Z"
   },
   {
    "duration": 95,
    "start_time": "2024-03-01T04:20:16.744Z"
   },
   {
    "duration": 76,
    "start_time": "2024-03-01T04:20:16.840Z"
   },
   {
    "duration": 54,
    "start_time": "2024-03-01T04:20:16.918Z"
   },
   {
    "duration": 58,
    "start_time": "2024-03-01T04:20:16.973Z"
   },
   {
    "duration": 69,
    "start_time": "2024-03-01T04:20:17.033Z"
   },
   {
    "duration": 11702,
    "start_time": "2024-03-01T09:21:27.928Z"
   },
   {
    "duration": 171,
    "start_time": "2024-03-01T09:21:39.632Z"
   },
   {
    "duration": 12,
    "start_time": "2024-03-01T09:21:39.805Z"
   },
   {
    "duration": 6,
    "start_time": "2024-03-01T09:21:39.818Z"
   },
   {
    "duration": 25,
    "start_time": "2024-03-01T09:21:39.825Z"
   },
   {
    "duration": 31,
    "start_time": "2024-03-01T09:21:39.851Z"
   },
   {
    "duration": 58,
    "start_time": "2024-03-01T09:21:39.884Z"
   },
   {
    "duration": 25,
    "start_time": "2024-03-01T09:21:39.944Z"
   },
   {
    "duration": 21,
    "start_time": "2024-03-01T09:21:39.971Z"
   },
   {
    "duration": 24,
    "start_time": "2024-03-01T09:21:39.994Z"
   },
   {
    "duration": 21,
    "start_time": "2024-03-01T09:21:40.020Z"
   },
   {
    "duration": 9,
    "start_time": "2024-03-01T09:21:40.043Z"
   },
   {
    "duration": 19,
    "start_time": "2024-03-01T09:21:40.054Z"
   },
   {
    "duration": 20,
    "start_time": "2024-03-01T09:21:40.076Z"
   },
   {
    "duration": 10,
    "start_time": "2024-03-01T09:21:40.098Z"
   },
   {
    "duration": 12,
    "start_time": "2024-03-01T09:21:40.109Z"
   },
   {
    "duration": 9,
    "start_time": "2024-03-01T09:21:40.123Z"
   },
   {
    "duration": 12,
    "start_time": "2024-03-01T09:21:40.133Z"
   },
   {
    "duration": 13,
    "start_time": "2024-03-01T09:21:40.146Z"
   },
   {
    "duration": 20,
    "start_time": "2024-03-01T09:21:40.161Z"
   },
   {
    "duration": 125,
    "start_time": "2024-03-01T09:21:40.182Z"
   },
   {
    "duration": 11,
    "start_time": "2024-03-01T09:21:40.309Z"
   },
   {
    "duration": 14,
    "start_time": "2024-03-01T09:21:40.321Z"
   },
   {
    "duration": 27,
    "start_time": "2024-03-01T09:21:40.336Z"
   },
   {
    "duration": 3,
    "start_time": "2024-03-01T12:16:41.654Z"
   },
   {
    "duration": 611,
    "start_time": "2024-03-01T12:33:22.269Z"
   },
   {
    "duration": 550,
    "start_time": "2024-03-01T12:34:06.134Z"
   },
   {
    "duration": 11732,
    "start_time": "2024-03-01T12:34:06.686Z"
   },
   {
    "duration": 4,
    "start_time": "2024-03-01T12:34:18.420Z"
   },
   {
    "duration": 221,
    "start_time": "2024-03-01T12:34:18.427Z"
   },
   {
    "duration": 13,
    "start_time": "2024-03-01T12:34:18.649Z"
   },
   {
    "duration": 3,
    "start_time": "2024-03-01T12:34:18.663Z"
   },
   {
    "duration": 15,
    "start_time": "2024-03-01T12:34:18.667Z"
   },
   {
    "duration": 14,
    "start_time": "2024-03-01T12:34:18.684Z"
   },
   {
    "duration": 15,
    "start_time": "2024-03-01T12:34:18.700Z"
   },
   {
    "duration": 9,
    "start_time": "2024-03-01T12:34:18.718Z"
   },
   {
    "duration": 10,
    "start_time": "2024-03-01T12:34:18.728Z"
   },
   {
    "duration": 25,
    "start_time": "2024-03-01T12:34:18.739Z"
   },
   {
    "duration": 16,
    "start_time": "2024-03-01T12:34:18.765Z"
   },
   {
    "duration": 8,
    "start_time": "2024-03-01T12:34:18.782Z"
   },
   {
    "duration": 11,
    "start_time": "2024-03-01T12:34:18.792Z"
   },
   {
    "duration": 11,
    "start_time": "2024-03-01T12:34:18.805Z"
   },
   {
    "duration": 8,
    "start_time": "2024-03-01T12:34:18.817Z"
   },
   {
    "duration": 36,
    "start_time": "2024-03-01T12:34:18.827Z"
   },
   {
    "duration": 21,
    "start_time": "2024-03-01T12:34:18.865Z"
   },
   {
    "duration": 9,
    "start_time": "2024-03-01T12:34:18.887Z"
   },
   {
    "duration": 20,
    "start_time": "2024-03-01T12:34:18.897Z"
   },
   {
    "duration": 8,
    "start_time": "2024-03-01T12:34:18.919Z"
   },
   {
    "duration": 132,
    "start_time": "2024-03-01T12:34:18.928Z"
   },
   {
    "duration": 14,
    "start_time": "2024-03-01T12:34:19.061Z"
   },
   {
    "duration": 15,
    "start_time": "2024-03-01T12:34:19.076Z"
   },
   {
    "duration": 25,
    "start_time": "2024-03-01T12:34:19.092Z"
   },
   {
    "duration": 122,
    "start_time": "2024-03-01T12:34:41.353Z"
   },
   {
    "duration": 123,
    "start_time": "2024-03-01T12:36:10.281Z"
   },
   {
    "duration": 155,
    "start_time": "2024-03-01T12:39:03.248Z"
   },
   {
    "duration": 117,
    "start_time": "2024-03-01T12:39:17.143Z"
   },
   {
    "duration": 111,
    "start_time": "2024-03-01T12:39:45.672Z"
   },
   {
    "duration": 96,
    "start_time": "2024-03-01T12:39:50.565Z"
   },
   {
    "duration": 104,
    "start_time": "2024-03-01T12:40:22.137Z"
   },
   {
    "duration": 130,
    "start_time": "2024-03-01T12:43:01.430Z"
   },
   {
    "duration": 158,
    "start_time": "2024-03-01T12:43:20.780Z"
   },
   {
    "duration": 120,
    "start_time": "2024-03-01T12:43:38.117Z"
   },
   {
    "duration": 136,
    "start_time": "2024-03-01T12:50:07.300Z"
   },
   {
    "duration": 144,
    "start_time": "2024-03-01T12:50:31.186Z"
   },
   {
    "duration": 115,
    "start_time": "2024-03-01T12:53:12.312Z"
   },
   {
    "duration": 119,
    "start_time": "2024-03-01T12:53:56.831Z"
   },
   {
    "duration": 539,
    "start_time": "2024-03-01T12:54:07.039Z"
   },
   {
    "duration": 11835,
    "start_time": "2024-03-01T12:54:07.580Z"
   },
   {
    "duration": 3,
    "start_time": "2024-03-01T12:54:19.417Z"
   },
   {
    "duration": 181,
    "start_time": "2024-03-01T12:54:19.422Z"
   },
   {
    "duration": 11,
    "start_time": "2024-03-01T12:54:19.605Z"
   },
   {
    "duration": 2,
    "start_time": "2024-03-01T12:54:19.618Z"
   },
   {
    "duration": 16,
    "start_time": "2024-03-01T12:54:19.622Z"
   },
   {
    "duration": 8,
    "start_time": "2024-03-01T12:54:19.639Z"
   },
   {
    "duration": 25,
    "start_time": "2024-03-01T12:54:19.648Z"
   },
   {
    "duration": 21,
    "start_time": "2024-03-01T12:54:19.676Z"
   },
   {
    "duration": 8,
    "start_time": "2024-03-01T12:54:19.698Z"
   },
   {
    "duration": 11,
    "start_time": "2024-03-01T12:54:19.708Z"
   },
   {
    "duration": 9,
    "start_time": "2024-03-01T12:54:19.720Z"
   },
   {
    "duration": 8,
    "start_time": "2024-03-01T12:54:19.731Z"
   },
   {
    "duration": 12,
    "start_time": "2024-03-01T12:54:19.741Z"
   },
   {
    "duration": 10,
    "start_time": "2024-03-01T12:54:19.755Z"
   },
   {
    "duration": 8,
    "start_time": "2024-03-01T12:54:19.766Z"
   },
   {
    "duration": 10,
    "start_time": "2024-03-01T12:54:19.775Z"
   },
   {
    "duration": 8,
    "start_time": "2024-03-01T12:54:19.787Z"
   },
   {
    "duration": 21,
    "start_time": "2024-03-01T12:54:19.796Z"
   },
   {
    "duration": 14,
    "start_time": "2024-03-01T12:54:19.818Z"
   },
   {
    "duration": 8,
    "start_time": "2024-03-01T12:54:19.834Z"
   },
   {
    "duration": 120,
    "start_time": "2024-03-01T12:54:19.843Z"
   },
   {
    "duration": 114,
    "start_time": "2024-03-01T12:54:19.965Z"
   },
   {
    "duration": 10,
    "start_time": "2024-03-01T12:54:20.081Z"
   },
   {
    "duration": 33,
    "start_time": "2024-03-01T12:54:20.092Z"
   },
   {
    "duration": 32,
    "start_time": "2024-03-01T12:54:20.126Z"
   },
   {
    "duration": 92,
    "start_time": "2024-03-01T12:56:16.146Z"
   },
   {
    "duration": 138,
    "start_time": "2024-03-01T12:56:20.169Z"
   },
   {
    "duration": 117,
    "start_time": "2024-03-01T12:57:14.139Z"
   },
   {
    "duration": 112,
    "start_time": "2024-03-01T12:58:15.780Z"
   },
   {
    "duration": 111,
    "start_time": "2024-03-01T12:59:27.730Z"
   },
   {
    "duration": 113,
    "start_time": "2024-03-01T12:59:33.701Z"
   },
   {
    "duration": 117,
    "start_time": "2024-03-01T12:59:45.366Z"
   },
   {
    "duration": 117,
    "start_time": "2024-03-01T13:00:35.621Z"
   },
   {
    "duration": 111,
    "start_time": "2024-03-01T13:06:56.772Z"
   },
   {
    "duration": 123,
    "start_time": "2024-03-01T13:15:47.207Z"
   },
   {
    "duration": 112,
    "start_time": "2024-03-01T13:18:41.237Z"
   },
   {
    "duration": 113,
    "start_time": "2024-03-01T13:18:55.002Z"
   },
   {
    "duration": 117,
    "start_time": "2024-03-01T13:19:02.744Z"
   },
   {
    "duration": 121,
    "start_time": "2024-03-01T13:19:10.106Z"
   },
   {
    "duration": 114,
    "start_time": "2024-03-01T13:21:17.737Z"
   },
   {
    "duration": 141,
    "start_time": "2024-03-01T13:22:07.529Z"
   },
   {
    "duration": 109,
    "start_time": "2024-03-01T13:22:13.116Z"
   },
   {
    "duration": 116,
    "start_time": "2024-03-01T13:22:20.306Z"
   },
   {
    "duration": 123,
    "start_time": "2024-03-01T13:22:31.862Z"
   },
   {
    "duration": 75,
    "start_time": "2024-03-01T13:23:32.224Z"
   },
   {
    "duration": 84,
    "start_time": "2024-03-01T13:23:53.240Z"
   },
   {
    "duration": 89,
    "start_time": "2024-03-01T13:24:00.893Z"
   },
   {
    "duration": 22,
    "start_time": "2024-03-01T13:24:38.337Z"
   },
   {
    "duration": 76,
    "start_time": "2024-03-01T13:24:50.362Z"
   },
   {
    "duration": 134,
    "start_time": "2024-03-01T13:25:52.673Z"
   },
   {
    "duration": 118,
    "start_time": "2024-03-01T13:26:36.998Z"
   },
   {
    "duration": 124,
    "start_time": "2024-03-01T13:26:43.133Z"
   },
   {
    "duration": 107,
    "start_time": "2024-03-01T13:27:24.972Z"
   },
   {
    "duration": 114,
    "start_time": "2024-03-01T13:29:50.414Z"
   },
   {
    "duration": 126,
    "start_time": "2024-03-01T13:30:25.496Z"
   },
   {
    "duration": 120,
    "start_time": "2024-03-01T13:30:49.343Z"
   },
   {
    "duration": 21,
    "start_time": "2024-03-01T13:31:43.898Z"
   },
   {
    "duration": 21,
    "start_time": "2024-03-01T13:31:55.082Z"
   },
   {
    "duration": 137,
    "start_time": "2024-03-01T13:31:57.977Z"
   },
   {
    "duration": 23,
    "start_time": "2024-03-01T13:32:12.047Z"
   },
   {
    "duration": 21,
    "start_time": "2024-03-01T13:32:28.320Z"
   },
   {
    "duration": 21,
    "start_time": "2024-03-01T13:32:47.831Z"
   },
   {
    "duration": 22,
    "start_time": "2024-03-01T13:34:10.803Z"
   },
   {
    "duration": 20,
    "start_time": "2024-03-01T13:34:13.380Z"
   },
   {
    "duration": 109,
    "start_time": "2024-03-01T13:34:37.974Z"
   },
   {
    "duration": 109,
    "start_time": "2024-03-01T13:35:58.943Z"
   },
   {
    "duration": 22,
    "start_time": "2024-03-01T13:36:14.345Z"
   },
   {
    "duration": 157,
    "start_time": "2024-03-01T13:36:44.989Z"
   },
   {
    "duration": 1773,
    "start_time": "2024-03-01T13:42:31.058Z"
   },
   {
    "duration": 1627,
    "start_time": "2024-03-01T13:42:38.928Z"
   },
   {
    "duration": 168,
    "start_time": "2024-03-01T13:46:36.124Z"
   },
   {
    "duration": 115,
    "start_time": "2024-03-01T13:46:41.656Z"
   },
   {
    "duration": 17,
    "start_time": "2024-03-01T14:13:28.369Z"
   },
   {
    "duration": 112,
    "start_time": "2024-03-01T14:55:59.922Z"
   },
   {
    "duration": 15,
    "start_time": "2024-03-01T14:57:01.451Z"
   },
   {
    "duration": 18,
    "start_time": "2024-03-01T16:15:25.562Z"
   },
   {
    "duration": 16,
    "start_time": "2024-03-01T16:17:58.546Z"
   },
   {
    "duration": 15,
    "start_time": "2024-03-01T16:21:51.757Z"
   },
   {
    "duration": 17,
    "start_time": "2024-03-01T16:22:54.482Z"
   },
   {
    "duration": 23,
    "start_time": "2024-03-01T16:23:23.163Z"
   },
   {
    "duration": 15,
    "start_time": "2024-03-01T16:23:27.301Z"
   },
   {
    "duration": 15,
    "start_time": "2024-03-01T16:30:30.394Z"
   },
   {
    "duration": 18,
    "start_time": "2024-03-01T16:42:22.634Z"
   },
   {
    "duration": 15,
    "start_time": "2024-03-01T21:33:40.119Z"
   },
   {
    "duration": 12,
    "start_time": "2024-03-01T21:36:45.590Z"
   },
   {
    "duration": 12,
    "start_time": "2024-03-01T21:42:36.164Z"
   },
   {
    "duration": 509,
    "start_time": "2024-03-01T21:43:03.724Z"
   },
   {
    "duration": 10458,
    "start_time": "2024-03-01T21:43:04.235Z"
   },
   {
    "duration": 3,
    "start_time": "2024-03-01T21:43:14.695Z"
   },
   {
    "duration": 6,
    "start_time": "2024-03-01T21:43:14.699Z"
   },
   {
    "duration": 54,
    "start_time": "2024-03-01T21:43:14.706Z"
   },
   {
    "duration": 3,
    "start_time": "2024-03-01T21:43:14.762Z"
   },
   {
    "duration": 26,
    "start_time": "2024-03-01T21:43:14.766Z"
   },
   {
    "duration": 12,
    "start_time": "2024-03-01T21:43:14.794Z"
   },
   {
    "duration": 21,
    "start_time": "2024-03-01T21:43:14.807Z"
   },
   {
    "duration": 10,
    "start_time": "2024-03-01T21:43:14.831Z"
   },
   {
    "duration": 13,
    "start_time": "2024-03-01T21:43:14.842Z"
   },
   {
    "duration": 11,
    "start_time": "2024-03-01T21:43:14.856Z"
   },
   {
    "duration": 14,
    "start_time": "2024-03-01T21:43:14.868Z"
   },
   {
    "duration": 9,
    "start_time": "2024-03-01T21:43:14.883Z"
   },
   {
    "duration": 13,
    "start_time": "2024-03-01T21:43:14.893Z"
   },
   {
    "duration": 16,
    "start_time": "2024-03-01T21:43:14.907Z"
   },
   {
    "duration": 8,
    "start_time": "2024-03-01T21:43:14.925Z"
   },
   {
    "duration": 12,
    "start_time": "2024-03-01T21:43:14.934Z"
   },
   {
    "duration": 18,
    "start_time": "2024-03-01T21:43:14.948Z"
   },
   {
    "duration": 16,
    "start_time": "2024-03-01T21:43:14.967Z"
   },
   {
    "duration": 12,
    "start_time": "2024-03-01T21:43:14.984Z"
   },
   {
    "duration": 9,
    "start_time": "2024-03-01T21:43:14.997Z"
   },
   {
    "duration": 64,
    "start_time": "2024-03-01T21:43:15.007Z"
   },
   {
    "duration": 63,
    "start_time": "2024-03-01T21:43:15.073Z"
   },
   {
    "duration": 16,
    "start_time": "2024-03-01T21:43:15.137Z"
   },
   {
    "duration": 33,
    "start_time": "2024-03-01T21:43:15.154Z"
   },
   {
    "duration": 12,
    "start_time": "2024-03-01T21:43:15.189Z"
   },
   {
    "duration": 486,
    "start_time": "2024-03-01T22:02:23.401Z"
   },
   {
    "duration": 12054,
    "start_time": "2024-03-01T22:02:23.889Z"
   },
   {
    "duration": 3,
    "start_time": "2024-03-01T22:02:35.945Z"
   },
   {
    "duration": 7,
    "start_time": "2024-03-01T22:02:35.949Z"
   },
   {
    "duration": 51,
    "start_time": "2024-03-01T22:02:35.958Z"
   },
   {
    "duration": 3,
    "start_time": "2024-03-01T22:02:36.010Z"
   },
   {
    "duration": 15,
    "start_time": "2024-03-01T22:02:36.014Z"
   },
   {
    "duration": 8,
    "start_time": "2024-03-01T22:02:36.030Z"
   },
   {
    "duration": 11,
    "start_time": "2024-03-01T22:02:36.040Z"
   },
   {
    "duration": 8,
    "start_time": "2024-03-01T22:02:36.053Z"
   },
   {
    "duration": 8,
    "start_time": "2024-03-01T22:02:36.063Z"
   },
   {
    "duration": 10,
    "start_time": "2024-03-01T22:02:36.072Z"
   },
   {
    "duration": 8,
    "start_time": "2024-03-01T22:02:36.084Z"
   },
   {
    "duration": 8,
    "start_time": "2024-03-01T22:02:36.094Z"
   },
   {
    "duration": 14,
    "start_time": "2024-03-01T22:02:36.103Z"
   },
   {
    "duration": 9,
    "start_time": "2024-03-01T22:02:36.118Z"
   },
   {
    "duration": 7,
    "start_time": "2024-03-01T22:02:36.128Z"
   },
   {
    "duration": 32,
    "start_time": "2024-03-01T22:02:36.136Z"
   },
   {
    "duration": 9,
    "start_time": "2024-03-01T22:02:36.169Z"
   },
   {
    "duration": 10,
    "start_time": "2024-03-01T22:02:36.179Z"
   },
   {
    "duration": 14,
    "start_time": "2024-03-01T22:02:36.190Z"
   },
   {
    "duration": 19,
    "start_time": "2024-03-01T22:02:36.206Z"
   },
   {
    "duration": 33,
    "start_time": "2024-03-01T22:02:36.226Z"
   },
   {
    "duration": 24,
    "start_time": "2024-03-01T22:02:36.261Z"
   },
   {
    "duration": 10,
    "start_time": "2024-03-01T22:02:36.286Z"
   },
   {
    "duration": 13,
    "start_time": "2024-03-01T22:02:36.297Z"
   },
   {
    "duration": 11,
    "start_time": "2024-03-01T22:02:36.311Z"
   },
   {
    "duration": 539,
    "start_time": "2024-03-02T04:42:34.941Z"
   },
   {
    "duration": 7382,
    "start_time": "2024-03-02T04:42:35.481Z"
   },
   {
    "duration": 3,
    "start_time": "2024-03-02T04:42:42.865Z"
   },
   {
    "duration": 18,
    "start_time": "2024-03-02T04:42:42.870Z"
   },
   {
    "duration": 232,
    "start_time": "2024-03-02T04:42:42.890Z"
   },
   {
    "duration": 3,
    "start_time": "2024-03-02T04:42:43.123Z"
   },
   {
    "duration": 56,
    "start_time": "2024-03-02T04:42:43.127Z"
   },
   {
    "duration": 50,
    "start_time": "2024-03-02T04:42:43.185Z"
   },
   {
    "duration": 56,
    "start_time": "2024-03-02T04:42:43.236Z"
   },
   {
    "duration": 51,
    "start_time": "2024-03-02T04:42:43.295Z"
   },
   {
    "duration": 49,
    "start_time": "2024-03-02T04:42:43.348Z"
   },
   {
    "duration": 52,
    "start_time": "2024-03-02T04:42:43.399Z"
   },
   {
    "duration": 51,
    "start_time": "2024-03-02T04:42:43.452Z"
   },
   {
    "duration": 50,
    "start_time": "2024-03-02T04:42:43.504Z"
   },
   {
    "duration": 52,
    "start_time": "2024-03-02T04:42:43.555Z"
   },
   {
    "duration": 53,
    "start_time": "2024-03-02T04:42:43.609Z"
   },
   {
    "duration": 50,
    "start_time": "2024-03-02T04:42:43.663Z"
   },
   {
    "duration": 51,
    "start_time": "2024-03-02T04:42:43.715Z"
   },
   {
    "duration": 49,
    "start_time": "2024-03-02T04:42:43.768Z"
   },
   {
    "duration": 48,
    "start_time": "2024-03-02T04:42:43.818Z"
   },
   {
    "duration": 53,
    "start_time": "2024-03-02T04:42:43.867Z"
   },
   {
    "duration": 49,
    "start_time": "2024-03-02T04:42:43.921Z"
   },
   {
    "duration": 95,
    "start_time": "2024-03-02T04:42:43.972Z"
   },
   {
    "duration": 75,
    "start_time": "2024-03-02T04:42:44.069Z"
   },
   {
    "duration": 52,
    "start_time": "2024-03-02T04:42:44.145Z"
   },
   {
    "duration": 55,
    "start_time": "2024-03-02T04:42:44.199Z"
   },
   {
    "duration": 53,
    "start_time": "2024-03-02T04:42:44.255Z"
   }
  ],
  "kernelspec": {
   "display_name": "Python 3 (ipykernel)",
   "language": "python",
   "name": "python3"
  },
  "language_info": {
   "codemirror_mode": {
    "name": "ipython",
    "version": 3
   },
   "file_extension": ".py",
   "mimetype": "text/x-python",
   "name": "python",
   "nbconvert_exporter": "python",
   "pygments_lexer": "ipython3",
   "version": "3.11.5"
  },
  "toc": {
   "base_numbering": 1,
   "nav_menu": {},
   "number_sections": true,
   "sideBar": true,
   "skip_h1_title": true,
   "title_cell": "Table of Contents",
   "title_sidebar": "Contents",
   "toc_cell": false,
   "toc_position": {
    "height": "calc(100% - 180px)",
    "left": "10px",
    "top": "150px",
    "width": "165px"
   },
   "toc_section_display": true,
   "toc_window_display": true
  }
 },
 "nbformat": 4,
 "nbformat_minor": 2
}
